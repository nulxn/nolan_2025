{
 "cells": [
  {
   "cell_type": "raw",
   "metadata": {
    "vscode": {
     "languageId": "raw"
    }
   },
   "source": [
    "---\n",
    "title: Casting and Range\n",
    "description: Student Teaching Lesson\n",
    "layout: post\n",
    "type: hacks\n",
    "comments: true\n",
    "---"
   ]
  },
  {
   "cell_type": "code",
   "execution_count": 7,
   "metadata": {},
   "outputs": [
    {
     "name": "stdout",
     "output_type": "stream",
     "text": [
      "Test 1: avgInt(10, 20) = 15.0\n",
      "Test 2: avgInt(5, 8) = 6.5\n",
      "Test 3: avgInt(7, 10) = 8.5\n",
      "Test 4: avgInt(100, 101) = 100.5\n"
     ]
    }
   ],
   "source": [
    "// FRQ 1: Average with correct casting\n",
    "// Write a method avgInt that takes two int values and returns their average as a double,\n",
    "// preserving the .5 if present.\n",
    "\n",
    "public class FRQ1 {\n",
    "    public static double avgInt(int a, int b) {\n",
    "        return ((double)a + b) / 2.0;\n",
    "    }\n",
    "    \n",
    "    public static void main(String[] args) {\n",
    "        // Test cases\n",
    "        System.out.println(\"Test 1: avgInt(10, 20) = \" + avgInt(10, 20));     // Expected: 15.0\n",
    "        System.out.println(\"Test 2: avgInt(5, 8) = \" + avgInt(5, 8));         // Expected: 6.5\n",
    "        System.out.println(\"Test 3: avgInt(7, 10) = \" + avgInt(7, 10));       // Expected: 8.5\n",
    "        System.out.println(\"Test 4: avgInt(100, 101) = \" + avgInt(100, 101)); // Expected: 100.5\n",
    "    }\n",
    "}\n",
    "\n",
    "FRQ1.main(null);"
   ]
  },
  {
   "cell_type": "code",
   "execution_count": 6,
   "metadata": {},
   "outputs": [
    {
     "name": "stdout",
     "output_type": "stream",
     "text": [
      "Test 1: percent(50, 100) = 50.0\n",
      "Test 2: percent(3, 4) = 75.0\n",
      "Test 3: percent(7, 10) = 70.0\n",
      "Test 4: percent(1, 3) = 33.333333333333336\n",
      "Test 5: percent(85, 92) = 92.3913043478261\n",
      "Test 6: percent(10, 0) = 0.0\n"
     ]
    }
   ],
   "source": [
    "// FRQ 2: Percentage\n",
    "// Given int correct and int total, compute the percentage as a double from 0.0 to 100.0\n",
    "// without losing fractional precision.\n",
    "\n",
    "public class FRQ2 {\n",
    "    public static double percent(int correct, int total) {\n",
    "        if (total == 0) return 0.0;\n",
    "        return 100.0 * ((double) correct) / total;\n",
    "    }\n",
    "    \n",
    "    public static void main(String[] args) {\n",
    "        // Test cases\n",
    "        System.out.println(\"Test 1: percent(50, 100) = \" + percent(50, 100));   // Expected: 50.0\n",
    "        System.out.println(\"Test 2: percent(3, 4) = \" + percent(3, 4));         // Expected: 75.0\n",
    "        System.out.println(\"Test 3: percent(7, 10) = \" + percent(7, 10));       // Expected: 70.0\n",
    "        System.out.println(\"Test 4: percent(1, 3) = \" + percent(1, 3));         // Expected: 33.333...\n",
    "        System.out.println(\"Test 5: percent(85, 92) = \" + percent(85, 92));     // Expected: 92.391...\n",
    "        System.out.println(\"Test 6: percent(10, 0) = \" + percent(10, 0));       // Expected: 0.0 (safe handling)\n",
    "    }\n",
    "}\n",
    "\n",
    "FRQ2.main(null);"
   ]
  },
  {
   "cell_type": "code",
   "execution_count": 5,
   "metadata": {},
   "outputs": [
    {
     "name": "stdout",
     "output_type": "stream",
     "text": [
      "Test 1: safeMod(10, 3) = 1\n",
      "Test 2: safeMod(15, 4) = 3\n",
      "Test 3: safeMod(20, 5) = 0\n",
      "Test 4: safeMod(7, 0) = 0\n",
      "Test 5: safeMod(100, 0) = 0\n"
     ]
    }
   ],
   "source": [
    "// FRQ 3: Safe remainder\n",
    "// Implement safeMod(int a, int b) that returns a % b,\n",
    "// but if b == 0, it should return 0 instead of throwing.\n",
    "\n",
    "public class FRQ3 {\n",
    "    public static int safeMod(int a, int b) {\n",
    "        if (b == 0) return 0;\n",
    "        return a % b;\n",
    "    }\n",
    "    \n",
    "    public static void main(String[] args) {\n",
    "        // Test cases\n",
    "        System.out.println(\"Test 1: safeMod(10, 3) = \" + safeMod(10, 3));   // Expected: 1\n",
    "        System.out.println(\"Test 2: safeMod(15, 4) = \" + safeMod(15, 4));   // Expected: 3\n",
    "        System.out.println(\"Test 3: safeMod(20, 5) = \" + safeMod(20, 5));   // Expected: 0\n",
    "        System.out.println(\"Test 4: safeMod(7, 0) = \" + safeMod(7, 0));     // Expected: 0 (safe handling)\n",
    "        System.out.println(\"Test 5: safeMod(100, 0) = \" + safeMod(100, 0)); // Expected: 0 (safe handling)\n",
    "    }\n",
    "}\n",
    "\n",
    "FRQ3.main(null);"
   ]
  }
 ],
 "metadata": {
  "kernelspec": {
   "display_name": "Java",
   "language": "java",
   "name": "java"
  },
  "language_info": {
   "codemirror_mode": "java",
   "file_extension": ".jshell",
   "mimetype": "text/x-java-source",
   "name": "java",
   "pygments_lexer": "java",
   "version": "11.0.12"
  }
 },
 "nbformat": 4,
 "nbformat_minor": 2
}

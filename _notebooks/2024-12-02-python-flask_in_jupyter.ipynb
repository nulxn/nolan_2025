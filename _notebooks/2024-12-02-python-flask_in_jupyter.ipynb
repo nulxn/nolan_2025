{
 "cells": [
  {
   "cell_type": "code",
   "execution_count": null,
   "metadata": {
    "vscode": {
     "languageId": "yaml"
    }
   },
   "outputs": [],
   "source": [
    "---\n",
    "toc: true\n",
    "comments: false\n",
    "layout: post\n",
    "title: BI 4.1 Internet - Web Server \n",
    "description: Quick launch into Flask, sending and receiving data from a web server.\n",
    "courses: { csp: {week: 14 } }\n",
    "type: ccc\n",
    "---"
   ]
  },
  {
   "cell_type": "markdown",
   "metadata": {},
   "source": [
    "## Introduction\n",
    "\n",
    "Welcome to this journey into the world of web servers and the Flask framework! In the previous weeks, you've successfully set up a web server using GitHub Pages, converting Jupyter Notebooks into Markdown for a seamless online presentation. Today, we'll take that knowledge to the next level as we dive into creating your very own web server using Flask.\n",
    "\n",
    "### Understanding Web Servers\n",
    "What is a Web Server?\n",
    "\n",
    "Traditionally, we had librarians at libraries that would help you find books or information. Today in the digital world, thousands upon thousands of home pages, search engines, and digital archives have been built using web servers.\n",
    "\n",
    "### GitHub Pages vs. Flask\n",
    "\n",
    "You've already experienced a form of web server through GitHub Pages. Think of GitHub Pages as a library that has established rules for publishing Markdown notes and Jupyter Notebooks neatly on a bookshelf.\n",
    "\n",
    "Now, let's introduce Flask, your personal web server. Flask can create and manage any type of content, including customizing everything according to your preferences, and even serve additional information (like a database with APIs).\n",
    "\n",
    "The Flask Framework\n",
    "Flask is a micro web framework written in Python. It's designed to be minimal and easy to use, making it perfect for building web applications, APIs, and, yes, even your web server. Today, we will start with the basics of Flask and see how it empowers you to create and manage web content."
   ]
  },
  {
   "attachments": {},
   "cell_type": "markdown",
   "metadata": {},
   "source": [
    "##  Our Goals for Today\n",
    "Here's what we'll accomplish in this session:\n",
    "\n",
    "- Create a minimal Flask server.\n",
    "- Explore the Python/Flask process.\n",
    "- Access data from our Flask server using Python.\n",
    "- Access data from our Flask server using JavaScript.\n",
    "- Learn how to stop the Python/Flask process gracefully.\n",
    "\n"
   ]
  },
  {
   "cell_type": "markdown",
   "metadata": {},
   "source": [
    "### Install required libraries\n",
    "These libraries are required to run and interact with the Python web server."
   ]
  },
  {
   "cell_type": "code",
   "execution_count": 24,
   "metadata": {},
   "outputs": [
    {
     "name": "stdout",
     "output_type": "stream",
     "text": [
      "Requirement already satisfied: flask in /home/nolan/nighthawk/nolan_2025/venv/lib/python3.11/site-packages (3.1.0)\n",
      "Requirement already satisfied: flask-cors in /home/nolan/nighthawk/nolan_2025/venv/lib/python3.11/site-packages (5.0.0)\n",
      "Requirement already satisfied: requests in /home/nolan/nighthawk/nolan_2025/venv/lib/python3.11/site-packages (2.32.3)\n",
      "Requirement already satisfied: Werkzeug>=3.1 in /home/nolan/nighthawk/nolan_2025/venv/lib/python3.11/site-packages (from flask) (3.1.3)\n",
      "Requirement already satisfied: Jinja2>=3.1.2 in /home/nolan/nighthawk/nolan_2025/venv/lib/python3.11/site-packages (from flask) (3.1.4)\n",
      "Requirement already satisfied: itsdangerous>=2.2 in /home/nolan/nighthawk/nolan_2025/venv/lib/python3.11/site-packages (from flask) (2.2.0)\n",
      "Requirement already satisfied: click>=8.1.3 in /home/nolan/nighthawk/nolan_2025/venv/lib/python3.11/site-packages (from flask) (8.1.7)\n",
      "Requirement already satisfied: blinker>=1.9 in /home/nolan/nighthawk/nolan_2025/venv/lib/python3.11/site-packages (from flask) (1.9.0)\n",
      "Requirement already satisfied: charset-normalizer<4,>=2 in /home/nolan/nighthawk/nolan_2025/venv/lib/python3.11/site-packages (from requests) (3.4.0)\n",
      "Requirement already satisfied: idna<4,>=2.5 in /home/nolan/nighthawk/nolan_2025/venv/lib/python3.11/site-packages (from requests) (3.10)\n",
      "Requirement already satisfied: urllib3<3,>=1.21.1 in /home/nolan/nighthawk/nolan_2025/venv/lib/python3.11/site-packages (from requests) (2.2.3)\n",
      "Requirement already satisfied: certifi>=2017.4.17 in /home/nolan/nighthawk/nolan_2025/venv/lib/python3.11/site-packages (from requests) (2024.8.30)\n",
      "Requirement already satisfied: MarkupSafe>=2.0 in /home/nolan/nighthawk/nolan_2025/venv/lib/python3.11/site-packages (from Jinja2>=3.1.2->flask) (3.0.2)\n"
     ]
    }
   ],
   "source": [
    "!pip install flask flask-cors requests"
   ]
  },
  {
   "cell_type": "markdown",
   "metadata": {},
   "source": [
    "### Start Web Server\n",
    "This Python code provides a simple server with an accessible API.\n",
    "\n",
    "Note: Jupyter magic commmand `%%python --bg` that follows runs the server in background.  This enables us to continue interacting with the subsequent Notebook cells."
   ]
  },
  {
   "cell_type": "code",
   "execution_count": 25,
   "metadata": {},
   "outputs": [],
   "source": [
    "%%python --bg\n",
    "\n",
    "from flask import Flask, jsonify\n",
    "from flask_cors import CORS\n",
    "\n",
    "# initialize a flask application (app)\n",
    "app = Flask(__name__)\n",
    "CORS(app, supports_credentials=True, origins='*')  # Allow all origins (*)\n",
    "\n",
    "# ... your existing Flask\n",
    "\n",
    "# add an api endpoint to flask app\n",
    "@app.route('/api/data')\n",
    "def get_data():\n",
    "    # start a list, to be used like a information database\n",
    "    InfoDb = []\n",
    "\n",
    "    # add a row to list, an Info record\n",
    "    InfoDb.append({\n",
    "        \"FirstName\": \"Nolan\",\n",
    "        \"LastName\": \"Hightower\",\n",
    "        \"DOB\": \"December 19\",\n",
    "        \"Residence\": \"San Diego\",\n",
    "        \"Email\": \"nolan@google.com\",\n",
    "        \"Owns_Cars\": [\"toy maclaren\"]\n",
    "    })\n",
    "\n",
    "    # add a row to list, an Info record\n",
    "    InfoDb.append({\n",
    "        \"FirstName\": \"Shane\",\n",
    "        \"LastName\": \"Lopez\",\n",
    "        \"DOB\": \"February 27\",\n",
    "        \"Residence\": \"San Diego\",\n",
    "        \"Email\": \"slopez@powayusd.com\",\n",
    "        \"Owns_Cars\": [\"2021-Insight\"]\n",
    "    })\n",
    "    \n",
    "    return jsonify(InfoDb)\n",
    "\n",
    "# add an HTML endpoint to flask app\n",
    "@app.route('/')\n",
    "def say_hello():\n",
    "    html_content = \"\"\"\n",
    "    <html>\n",
    "    <head>\n",
    "        <title>nolans flask</title>\n",
    "    </head>\n",
    "    <body>\n",
    "        <h2>nolan is a sigma male!</h2>\n",
    "    </body>\n",
    "    </html>\n",
    "    \"\"\"\n",
    "    return html_content\n",
    "\n",
    "if __name__ == '__main__':\n",
    "    # starts flask server on default port, http://127.0.0.1:5001\n",
    "    app.run(port=5001)"
   ]
  },
  {
   "cell_type": "markdown",
   "metadata": {},
   "source": [
    "### Explore the Python/Flask process with Linux\n",
    "This script discovers the running flask process on your machine using Linux commands.\n",
    "\n",
    "1. lsof - list open files\n",
    "2. `lsof` and `awk` return the process id, so `ps` can list details, the vericle bar is called a `pipe`.  A pipe flows output from one command to the next.\n",
    "3. `curl` is a Linux utiltity that is easiest way to test if web server is responding"
   ]
  },
  {
   "cell_type": "code",
   "execution_count": 26,
   "metadata": {
    "vscode": {
     "languageId": "bat"
    }
   },
   "outputs": [
    {
     "name": "stdout",
     "output_type": "stream",
     "text": [
      "Python open files on port 5001\n",
      "\n",
      "Python process\n",
      "    PID TTY          TIME CMD\n",
      "   1915 ?        00:00:00 systemd\n",
      "   1916 ?        00:00:00 (sd-pam)\n",
      "   1931 ?        00:00:04 pipewire\n",
      "   1933 ?        00:00:02 wireplumber\n",
      "   1935 ?        00:00:03 pipewire-pulse\n",
      "   1940 ?        00:00:01 gnome-keyring-d\n",
      "   1943 ?        00:00:11 dbus-daemon\n",
      "   1951 ?        00:00:04 gvfsd\n",
      "   1963 ?        00:00:00 gvfsd-fuse\n",
      "   1977 ?        00:00:02 tracker-miner-f\n",
      "   2016 ?        00:00:00 xdg-permission-\n",
      "   2028 ?        00:00:00 gvfs-udisks2-vo\n",
      "   2043 ?        00:00:00 gvfs-goa-volume\n",
      "   2047 ?        00:00:00 goa-daemon\n",
      "   2051 ?        00:00:00 gcr-ssh-agent\n",
      "   2052 ?        00:00:00 gnome-session-c\n",
      "   2053 ?        00:00:00 ssh-agent\n",
      "   2061 ?        00:00:00 gnome-session-b\n",
      "   2068 ?        00:00:00 goa-identity-se\n",
      "   2079 ?        00:00:00 gvfs-gphoto2-vo\n",
      "   2085 ?        00:00:00 gvfs-mtp-volume\n",
      "   2093 ?        00:00:01 gvfs-afc-volume\n",
      "   2101 ?        00:00:00 at-spi-bus-laun\n",
      "   2104 ?        00:26:57 gnome-shell\n",
      "   2112 ?        00:00:00 dbus-daemon\n",
      "   2304 ?        00:00:00 gnome-shell-cal\n",
      "   2311 ?        00:00:00 evolution-sourc\n",
      "   2366 ?        00:00:00 evolution-calen\n",
      "   2370 ?        00:00:00 gjs\n",
      "   2371 ?        00:00:00 at-spi2-registr\n",
      "   2389 ?        00:00:00 sh\n",
      "   2391 ?        00:02:07 ibus-daemon\n",
      "   2392 ?        00:00:00 gsd-a11y-settin\n",
      "   2395 ?        00:00:00 gsd-color\n",
      "   2397 ?        00:00:00 gsd-datetime\n",
      "   2401 ?        00:00:00 gsd-housekeepin\n",
      "   2404 ?        00:00:00 gsd-keyboard\n",
      "   2409 ?        00:00:01 gsd-media-keys\n",
      "   2410 ?        00:00:01 gsd-power\n",
      "   2411 ?        00:00:33 gnome-software\n",
      "   2414 ?        00:00:00 gsd-print-notif\n",
      "   2415 ?        00:00:00 evolution-alarm\n",
      "   2418 ?        00:00:00 gsd-rfkill\n",
      "   2419 ?        00:00:00 gsd-screensaver\n",
      "   2422 ?        00:00:07 gsd-sharing\n",
      "   2426 ?        00:00:00 gsd-smartcard\n",
      "   2433 ?        00:00:00 gsd-sound\n",
      "   2439 ?        00:00:00 gsd-usb-protect\n",
      "   2444 ?        00:00:00 gsd-wacom\n",
      "   2454 ?        00:00:00 gsd-disk-utilit\n",
      "   2487 ?        00:00:00 ibus-memconf\n",
      "   2488 ?        00:00:38 ibus-extension-\n",
      "   2497 ?        00:00:01 ibus-portal\n",
      "   2540 ?        00:00:00 evolution-addre\n",
      "   2542 ?        00:00:00 gjs\n",
      "   2603 ?        00:09:31 Xwayland\n",
      "   2608 ?        00:00:00 dconf-service\n",
      "   2626 ?        00:00:36 ibus-engine-sim\n",
      "   2636 ?        00:00:00 gsd-printer\n",
      "   2640 ?        00:00:03 xdg-desktop-por\n",
      "   2654 ?        00:00:01 xdg-document-po\n",
      "   2664 ?        00:01:21 xdg-desktop-por\n",
      "   2703 ?        00:00:01 gsd-xsettings\n",
      "   2726 ?        00:00:01 xdg-desktop-por\n",
      "   2754 ?        00:00:01 ibus-x11\n",
      "   3329 ?        00:00:00 gvfsd-metadata\n",
      "   3734 ?        00:00:00 gnome-calendar\n",
      "   3768 ?        00:00:00 gvfsd-trash\n",
      "   4798 ?        00:00:00 gvfsd-http\n",
      "  18295 ?        00:00:00 seahorse\n",
      "  19543 ?        00:00:04 gvfsd-network\n",
      "  19559 ?        00:00:00 gvfsd-dnssd\n",
      "  20371 ?        00:00:00 ssh-agent\n",
      "  47609 ?        00:00:00 brave-browser-s\n",
      "  47614 ?        00:00:00 cat\n",
      "  47615 ?        00:00:00 cat\n",
      "  47616 ?        00:03:46 brave\n",
      "  47618 ?        00:00:00 chrome_crashpad\n",
      "  47620 ?        00:00:00 chrome_crashpad\n",
      "  47626 ?        00:00:00 brave\n",
      "  47627 ?        00:00:00 brave\n",
      "  47629 ?        00:00:00 brave\n",
      "  47655 ?        00:04:51 brave\n",
      "  47667 ?        00:00:01 brave\n",
      "  47709 ?        00:00:00 brave\n",
      "  47737 ?        00:00:04 brave\n",
      "  47802 ?        00:00:23 brave\n",
      "  47811 ?        00:00:02 brave\n",
      "  47820 ?        00:00:01 brave\n",
      "  54486 ?        00:00:00 gvfsd-recent\n",
      "  55066 ?        00:00:14 brave\n",
      "  55072 ?        00:00:18 bundle\n",
      "  55079 ?        00:00:00 bash\n",
      "  55080 ?        00:00:00 tail\n",
      "  55082 ?        00:00:00 awk\n",
      "  55592 ?        00:00:15 brave\n",
      "  56552 ?        00:00:00 brave\n",
      "  56593 ?        00:00:02 brave\n",
      "  57616 ?        00:00:09 brave\n",
      "  58723 ?        00:00:07 brave\n",
      "  60185 ?        00:00:18 code\n",
      "  60189 ?        00:00:00 code\n",
      "  60190 ?        00:00:00 code\n",
      "  60192 ?        00:00:00 code\n",
      "  60211 ?        00:00:00 chrome_crashpad\n",
      "  60226 ?        00:00:35 code\n",
      "  60230 ?        00:00:00 code\n",
      "  60264 ?        00:02:13 code\n",
      "  60318 ?        00:00:04 code\n",
      "  60319 ?        00:00:22 code\n",
      "  60356 ?        00:00:00 pet\n",
      "  60440 ?        00:00:08 code\n",
      "  60471 ?        00:00:03 code\n",
      "  60472 ?        00:00:03 code\n",
      "  60689 ?        00:00:10 code\n",
      "  60739 ?        00:00:00 code\n",
      "  60760 ?        00:00:01 python\n",
      "  60771 ?        00:00:07 code\n",
      "  61156 ?        00:00:00 brave\n",
      "  61326 ?        00:00:02 brave\n",
      "  61350 ?        00:00:01 brave\n",
      "  61383 ?        00:00:00 brave\n",
      "  61435 ?        00:00:00 python\n",
      "  61437 ?        00:00:00 bash\n",
      "  61442 ?        00:00:00 xargs\n",
      "  61443 ?        00:00:00 ps\n",
      "\n",
      "Content of the Python root endpoint (aka /), using curl,\n",
      "\n",
      "    <html>\n",
      "    <head>\n",
      "        <title>nolans flask</title>\n",
      "    </head>\n",
      "    <body>\n",
      "        <h2>nolan is a sigma male!</h2>\n",
      "    </body>\n",
      "    </html>\n"
     ]
    },
    {
     "name": "stderr",
     "output_type": "stream",
     "text": [
      "  % Total    % Received % Xferd  Average Speed   Time    Time     Time  Current\n",
      "                                 Dload  Upload   Total   Spent    Left  Speed\n",
      "100   150  100   150    0     0  80601      0 --:--:-- --:--:-- --:--:--  146k\n"
     ]
    },
    {
     "name": "stdout",
     "output_type": "stream",
     "text": [
      "    "
     ]
    }
   ],
   "source": [
    "%%script bash\n",
    "\n",
    "# After app.run(), see the the Python open files on port 5001\n",
    "echo \"Python open files on port 5001\" \n",
    "lsof -i :5001\n",
    "# see the the Python process \n",
    "echo\n",
    "echo \"Python process\"\n",
    "lsof -i :5001 | awk '/Python/ {print $2}' | xargs ps\n",
    "# show ontent of the Python server using curl\n",
    "echo\n",
    "echo \"Content of the Python root endpoint (aka /), using curl\",  \n",
    "curl http://localhost:5001/\n",
    "\n"
   ]
  },
  {
   "cell_type": "markdown",
   "metadata": {},
   "source": [
    "### Access data from our Flask server using Python\n",
    "The code block below shows alternate ways to access the Web Server.\n",
    "1. Import requests and use it to obtain response from endpoints\n",
    "2. The response is a Python object that contains status codes and data\n",
    "3. The data can be in different forms, we will be focussed on JSON responses in Full-Stack."
   ]
  },
  {
   "cell_type": "code",
   "execution_count": 27,
   "metadata": {},
   "outputs": [
    {
     "name": "stdout",
     "output_type": "stream",
     "text": [
      "Print Status Message: <Response [200]>\n",
      "\n",
      "Print Raw HTML:\n",
      " \n",
      "    <html>\n",
      "    <head>\n",
      "        <title>nolans flask</title>\n",
      "    </head>\n",
      "    <body>\n",
      "        <h2>nolan is a sigma male!</h2>\n",
      "    </body>\n",
      "    </html>\n",
      "    \n"
     ]
    },
    {
     "data": {
      "text/html": [
       "\n",
       "    <html>\n",
       "    <head>\n",
       "        <title>nolans flask</title>\n",
       "    </head>\n",
       "    <body>\n",
       "        <h2>nolan is a sigma male!</h2>\n",
       "    </body>\n",
       "    </html>\n",
       "    "
      ],
      "text/plain": [
       "<IPython.core.display.HTML object>"
      ]
     },
     "metadata": {},
     "output_type": "display_data"
    },
    {
     "name": "stdout",
     "output_type": "stream",
     "text": [
      "Print Status Message: <Response [404]>\n"
     ]
    }
   ],
   "source": [
    "import requests\n",
    "from IPython.display import HTML, display\n",
    "\n",
    "# call api root endpoint (aka '/'), often called home page\n",
    "response = requests.get('http://127.0.0.1:5001/')\n",
    "# output response in different forms\n",
    "print(\"Print Status Message:\", response)\n",
    "print(\"\\nPrint Raw HTML:\\n\", response.text)\n",
    "display(HTML(response.text))\n",
    "\n",
    "# call unknown api endpoint\n",
    "response = requests.get('http://127.0.0.1:5001/unknown-page')\n",
    "print(\"Print Status Message:\", response)"
   ]
  },
  {
   "cell_type": "code",
   "execution_count": 28,
   "metadata": {},
   "outputs": [
    {
     "data": {
      "text/plain": [
       "[{'DOB': 'December 19',\n",
       "  'Email': 'nolan@google.com',\n",
       "  'FirstName': 'Nolan',\n",
       "  'LastName': 'Hightower',\n",
       "  'Owns_Cars': ['toy maclaren'],\n",
       "  'Residence': 'San Diego'},\n",
       " {'DOB': 'February 27',\n",
       "  'Email': 'slopez@powayusd.com',\n",
       "  'FirstName': 'Shane',\n",
       "  'LastName': 'Lopez',\n",
       "  'Owns_Cars': ['2021-Insight'],\n",
       "  'Residence': 'San Diego'}]"
      ]
     },
     "execution_count": 28,
     "metadata": {},
     "output_type": "execute_result"
    }
   ],
   "source": [
    "import requests\n",
    "# an api endpoint most commonly returns JSON data\n",
    "response = requests.get('http://127.0.0.1:5001/api/data')\n",
    "response.json()"
   ]
  },
  {
   "cell_type": "markdown",
   "metadata": {},
   "source": [
    "### Access data from our Flask server using JavaScript\n",
    "This sample is very similar to Full-Stack as the JavaScript is running through Jupyter and the Web server is a Python Process running on our machine (local server).\n",
    "\n",
    "1. HTML is used to setup basics of a table\n",
    "2. The script block, has javascript fetch that passes endpoint (url) and options.  The options are critical to communicating request requirements.\n",
    "3. Similar to python examples, data is extracted and that data is written to the document, which is what is viewable to the user as the page is rendered.  Headings are static in the document, but rows are dynamically extracted according to the information contained in the server."
   ]
  },
  {
   "cell_type": "code",
   "execution_count": 29,
   "metadata": {
    "vscode": {
     "languageId": "html"
    }
   },
   "outputs": [
    {
     "data": {
      "text/html": [
       "\n",
       "<h1>Access data from our Flask server using JavaScript</h1>\n",
       "\n",
       "<p>\n",
       "  This code extracts data \"live\" from a local Web Server with JavaScript fetch.\n",
       "  Additionally, it formats the data into a table.\n",
       "</p>\n",
       "\n",
       "<!-- Head contains information to Support the Document -->\n",
       "\n",
       "<!-- HTML table fragment for page -->\n",
       "<table id=\"demo\" class=\"table\">\n",
       "  <thead>\n",
       "    <tr>\n",
       "      <th>First Name</th>\n",
       "      <th>Last Name</th>\n",
       "      <th>Residence</th>\n",
       "    </tr>\n",
       "  </thead>\n",
       "  <tbody id=\"result\">\n",
       "    <!-- javascript generated data -->\n",
       "  </tbody>\n",
       "</table>\n",
       "\n",
       "<script>\n",
       "  (function () {\n",
       "    // prepare HTML result container for new output\n",
       "    let resultContainer = document.getElementById(\"result\");\n",
       "\n",
       "    // prepare URL\n",
       "    let url = \"http://127.0.0.1:5001/api/data\";\n",
       "\n",
       "    // set options for cross origin header request\n",
       "    let options = {\n",
       "      method: \"GET\", // *GET, POST, PUT, DELETE, etc.\n",
       "      mode: \"cors\", // no-cors, *cors, same-origin\n",
       "      cache: \"default\", // *default, no-cache, reload, force-cache, only-if-cached\n",
       "      credentials: \"include\", // include, *same-origin, omit\n",
       "      headers: {\n",
       "        \"Content-Type\": \"application/json\",\n",
       "      },\n",
       "    };\n",
       "\n",
       "    // fetch the API\n",
       "    fetch(url, options)\n",
       "      // response is a RESTful \"promise\" on any successful fetch\n",
       "      .then((response) => {\n",
       "        // check for response errors and display\n",
       "        if (response.status !== 200) {\n",
       "          console.error(response.status);\n",
       "          return;\n",
       "        }\n",
       "        // valid response will contain json data\n",
       "        response.json().then((data) => {\n",
       "          console.log(data);\n",
       "          for (const row of data) {\n",
       "            // tr and td build out for each row\n",
       "            const tr = document.createElement(\"tr\");\n",
       "            const firstname = document.createElement(\"td\");\n",
       "            const lastname = document.createElement(\"td\");\n",
       "            const residence = document.createElement(\"td\");\n",
       "            // data is specific to the API\n",
       "            firstname.innerHTML = row.FirstName;\n",
       "            lastname.innerHTML = row.LastName;\n",
       "            residence.innerHTML = row.Residence;\n",
       "            // this builds each td into tr\n",
       "            tr.appendChild(firstname);\n",
       "            tr.appendChild(lastname);\n",
       "            tr.appendChild(residence);\n",
       "            // add HTML to container\n",
       "            resultContainer.appendChild(tr);\n",
       "          }\n",
       "        });\n",
       "      })\n",
       "      .catch((error) => console.error(\"Fetch error:\", error));\n",
       "  })();\n",
       "</script>\n"
      ],
      "text/plain": [
       "<IPython.core.display.HTML object>"
      ]
     },
     "metadata": {},
     "output_type": "display_data"
    }
   ],
   "source": [
    "%%html\n",
    "\n",
    "<h1>Access data from our Flask server using JavaScript</h1>\n",
    "\n",
    "<p>\n",
    "  This code extracts data \"live\" from a local Web Server with JavaScript fetch.\n",
    "  Additionally, it formats the data into a table.\n",
    "</p>\n",
    "\n",
    "<!-- Head contains information to Support the Document -->\n",
    "\n",
    "<!-- HTML table fragment for page -->\n",
    "<table id=\"demo\" class=\"table\">\n",
    "  <thead>\n",
    "    <tr>\n",
    "      <th>First Name</th>\n",
    "      <th>Last Name</th>\n",
    "      <th>Residence</th>\n",
    "    </tr>\n",
    "  </thead>\n",
    "  <tbody id=\"result\">\n",
    "    <!-- javascript generated data -->\n",
    "  </tbody>\n",
    "</table>\n",
    "\n",
    "<script>\n",
    "  (function () {\n",
    "    // prepare HTML result container for new output\n",
    "    let resultContainer = document.getElementById(\"result\");\n",
    "\n",
    "    // prepare URL\n",
    "    let url = \"http://127.0.0.1:5001/api/data\";\n",
    "\n",
    "    // set options for cross origin header request\n",
    "    let options = {\n",
    "      method: \"GET\", // *GET, POST, PUT, DELETE, etc.\n",
    "      mode: \"cors\", // no-cors, *cors, same-origin\n",
    "      cache: \"default\", // *default, no-cache, reload, force-cache, only-if-cached\n",
    "      credentials: \"include\", // include, *same-origin, omit\n",
    "      headers: {\n",
    "        \"Content-Type\": \"application/json\",\n",
    "      },\n",
    "    };\n",
    "\n",
    "    // fetch the API\n",
    "    fetch(url, options)\n",
    "      // response is a RESTful \"promise\" on any successful fetch\n",
    "      .then((response) => {\n",
    "        // check for response errors and display\n",
    "        if (response.status !== 200) {\n",
    "          console.error(response.status);\n",
    "          return;\n",
    "        }\n",
    "        // valid response will contain json data\n",
    "        response.json().then((data) => {\n",
    "          console.log(data);\n",
    "          for (const row of data) {\n",
    "            // tr and td build out for each row\n",
    "            const tr = document.createElement(\"tr\");\n",
    "            const firstname = document.createElement(\"td\");\n",
    "            const lastname = document.createElement(\"td\");\n",
    "            const residence = document.createElement(\"td\");\n",
    "            // data is specific to the API\n",
    "            firstname.innerHTML = row.FirstName;\n",
    "            lastname.innerHTML = row.LastName;\n",
    "            residence.innerHTML = row.Residence;\n",
    "            // this builds each td into tr\n",
    "            tr.appendChild(firstname);\n",
    "            tr.appendChild(lastname);\n",
    "            tr.appendChild(residence);\n",
    "            // add HTML to container\n",
    "            resultContainer.appendChild(tr);\n",
    "          }\n",
    "        });\n",
    "      })\n",
    "      .catch((error) => console.error(\"Fetch error:\", error));\n",
    "  })();\n",
    "</script>\n"
   ]
  },
  {
   "cell_type": "markdown",
   "metadata": {},
   "source": [
    "### Stop the Python/Flask process\n",
    "This script ends Python/Flask process using pipes to obtain the python process.  Then echo the python process to `kill -9`.  "
   ]
  },
  {
   "cell_type": "code",
   "execution_count": null,
   "metadata": {
    "vscode": {
     "languageId": "bat"
    }
   },
   "outputs": [],
   "source": [
    "%%script bash\n",
    "\n",
    "python_ps=$(lsof -i :5001 | awk '/python/ {print $2}')\n",
    "echo \"Killing python process with PID: $python_ps\"\n",
    "echo $python_ps | xargs kill -9"
   ]
  },
  {
   "cell_type": "markdown",
   "metadata": {},
   "source": [
    "## Hacks\n",
    "Edit, stop and start the web server.\n",
    "- Add to the Home Page\n",
    "- Add your own information to the Web API\n",
    "- Use from Template to start your own Team Flask project https://github.com/nighthawkcoders/flocker_backend"
   ]
  }
 ],
 "metadata": {
  "kernelspec": {
   "display_name": "venv",
   "language": "python",
   "name": "python3"
  },
  "language_info": {
   "codemirror_mode": {
    "name": "ipython",
    "version": 3
   },
   "file_extension": ".py",
   "mimetype": "text/x-python",
   "name": "python",
   "nbconvert_exporter": "python",
   "pygments_lexer": "ipython3",
   "version": "3.11.2"
  },
  "orig_nbformat": 4
 },
 "nbformat": 4,
 "nbformat_minor": 2
}

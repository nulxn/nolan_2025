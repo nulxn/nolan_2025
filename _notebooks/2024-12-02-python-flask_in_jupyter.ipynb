{
 "cells": [
  {
   "cell_type": "code",
   "execution_count": null,
   "metadata": {
    "vscode": {
     "languageId": "yaml"
    }
   },
   "outputs": [],
   "source": [
    "---\n",
    "toc: true\n",
    "comments: false\n",
    "layout: post\n",
    "title: BI 4.1 Internet - Web Server \n",
    "description: Quick launch into Flask, sending and receiving data from a web server.\n",
    "courses: { csp: {week: 14 } }\n",
    "type: ccc\n",
    "---"
   ]
  },
  {
   "cell_type": "markdown",
   "metadata": {},
   "source": [
    "## Introduction\n",
    "\n",
    "Welcome to this journey into the world of web servers and the Flask framework! In the previous weeks, you've successfully set up a web server using GitHub Pages, converting Jupyter Notebooks into Markdown for a seamless online presentation. Today, we'll take that knowledge to the next level as we dive into creating your very own web server using Flask.\n",
    "\n",
    "### Understanding Web Servers\n",
    "What is a Web Server?\n",
    "\n",
    "Traditionally, we had librarians at libraries that would help you find books or information. Today in the digital world, thousands upon thousands of home pages, search engines, and digital archives have been built using web servers.\n",
    "\n",
    "### GitHub Pages vs. Flask\n",
    "\n",
    "You've already experienced a form of web server through GitHub Pages. Think of GitHub Pages as a library that has established rules for publishing Markdown notes and Jupyter Notebooks neatly on a bookshelf.\n",
    "\n",
    "Now, let's introduce Flask, your personal web server. Flask can create and manage any type of content, including customizing everything according to your preferences, and even serve additional information (like a database with APIs).\n",
    "\n",
    "The Flask Framework\n",
    "Flask is a micro web framework written in Python. It's designed to be minimal and easy to use, making it perfect for building web applications, APIs, and, yes, even your web server. Today, we will start with the basics of Flask and see how it empowers you to create and manage web content."
   ]
  },
  {
   "attachments": {},
   "cell_type": "markdown",
   "metadata": {},
   "source": [
    "##  Our Goals for Today\n",
    "Here's what we'll accomplish in this session:\n",
    "\n",
    "- Create a minimal Flask server.\n",
    "- Explore the Python/Flask process.\n",
    "- Access data from our Flask server using Python.\n",
    "- Access data from our Flask server using JavaScript.\n",
    "- Learn how to stop the Python/Flask process gracefully.\n",
    "\n"
   ]
  },
  {
   "cell_type": "markdown",
   "metadata": {},
   "source": [
    "### Install required libraries\n",
    "These libraries are required to run and interact with the Python web server."
   ]
  },
  {
   "cell_type": "code",
   "execution_count": null,
   "metadata": {},
   "outputs": [],
   "source": [
    "!pip install flask flask-cors requests"
   ]
  },
  {
   "cell_type": "markdown",
   "metadata": {},
   "source": [
    "### Start Web Server\n",
    "This Python code provides a simple server with an accessible API.\n",
    "\n",
    "Note: Jupyter magic commmand `%%python --bg` that follows runs the server in background.  This enables us to continue interacting with the subsequent Notebook cells."
   ]
  },
  {
   "cell_type": "code",
   "execution_count": null,
   "metadata": {},
   "outputs": [],
   "source": [
    "%%python --bg\n",
    "\n",
    "from flask import Flask, jsonify\n",
    "from flask_cors import CORS\n",
    "\n",
    "# initialize a flask application (app)\n",
    "app = Flask(__name__)\n",
    "CORS(app, supports_credentials=True, origins='*')  # Allow all origins (*)\n",
    "\n",
    "# ... your existing Flask\n",
    "\n",
    "# add an api endpoint to flask app\n",
    "@app.route('/api/data')\n",
    "def get_data():\n",
    "    # start a list, to be used like a information database\n",
    "    InfoDb = []\n",
    "\n",
    "    # add a row to list, an Info record\n",
    "    InfoDb.append({\n",
    "        \"FirstName\": \"John\",\n",
    "        \"LastName\": \"Mortensen\",\n",
    "        \"DOB\": \"October 21\",\n",
    "        \"Residence\": \"San Diego\",\n",
    "        \"Email\": \"jmortensen@powayusd.com\",\n",
    "        \"Owns_Cars\": [\"2015-Fusion\", \"2011-Ranger\", \"2003-Excursion\", \"1997-F350\", \"1969-Cadillac\"]\n",
    "    })\n",
    "\n",
    "    # add a row to list, an Info record\n",
    "    InfoDb.append({\n",
    "        \"FirstName\": \"Shane\",\n",
    "        \"LastName\": \"Lopez\",\n",
    "        \"DOB\": \"February 27\",\n",
    "        \"Residence\": \"San Diego\",\n",
    "        \"Email\": \"slopez@powayusd.com\",\n",
    "        \"Owns_Cars\": [\"2021-Insight\"]\n",
    "    })\n",
    "    \n",
    "    return jsonify(InfoDb)\n",
    "\n",
    "# add an HTML endpoint to flask app\n",
    "@app.route('/')\n",
    "def say_hello():\n",
    "    html_content = \"\"\"\n",
    "    <html>\n",
    "    <head>\n",
    "        <title>Hellox</title>\n",
    "    </head>\n",
    "    <body>\n",
    "        <h2>Hello, World!</h2>\n",
    "    </body>\n",
    "    </html>\n",
    "    \"\"\"\n",
    "    return html_content\n",
    "\n",
    "if __name__ == '__main__':\n",
    "    # starts flask server on default port, http://127.0.0.1:5001\n",
    "    app.run(port=5001)"
   ]
  },
  {
   "cell_type": "markdown",
   "metadata": {},
   "source": [
    "### Explore the Python/Flask process with Linux\n",
    "This script discovers the running flask process on your machine using Linux commands.\n",
    "\n",
    "1. lsof - list open files\n",
    "2. `lsof` and `awk` return the process id, so `ps` can list details, the vericle bar is called a `pipe`.  A pipe flows output from one command to the next.\n",
    "3. `curl` is a Linux utiltity that is easiest way to test if web server is responding"
   ]
  },
  {
   "cell_type": "code",
   "execution_count": null,
   "metadata": {
    "vscode": {
     "languageId": "bat"
    }
   },
   "outputs": [],
   "source": [
    "%%script bash\n",
    "\n",
    "# After app.run(), see the the Python open files on port 5001\n",
    "echo \"Python open files on port 5001\" \n",
    "lsof -i :5001\n",
    "# see the the Python process \n",
    "echo\n",
    "echo \"Python process\"\n",
    "lsof -i :5001 | awk '/Python/ {print $2}' | xargs ps\n",
    "# show ontent of the Python server using curl\n",
    "echo\n",
    "echo \"Content of the Python root endpoint (aka /), using curl\",  \n",
    "curl http://localhost:5001/\n",
    "\n"
   ]
  },
  {
   "cell_type": "markdown",
   "metadata": {},
   "source": [
    "### Access data from our Flask server using Python\n",
    "The code block below shows alternate ways to access the Web Server.\n",
    "1. Import requests and use it to obtain response from endpoints\n",
    "2. The response is a Python object that contains status codes and data\n",
    "3. The data can be in different forms, we will be focussed on JSON responses in Full-Stack."
   ]
  },
  {
   "cell_type": "code",
   "execution_count": null,
   "metadata": {},
   "outputs": [],
   "source": [
    "import requests\n",
    "from IPython.display import HTML, display\n",
    "\n",
    "# call api root endpoint (aka '/'), often called home page\n",
    "response = requests.get('http://127.0.0.1:5001/')\n",
    "# output response in different forms\n",
    "print(\"Print Status Message:\", response)\n",
    "print(\"\\nPrint Raw HTML:\\n\", response.text)\n",
    "display(HTML(response.text))\n",
    "\n",
    "# call unknown api endpoint\n",
    "response = requests.get('http://127.0.0.1:5001/unknown-page')\n",
    "print(\"Print Status Message:\", response)"
   ]
  },
  {
   "cell_type": "code",
   "execution_count": null,
   "metadata": {},
   "outputs": [],
   "source": [
    "import requests\n",
    "# an api endpoint most commonly returns JSON data\n",
    "response = requests.get('http://127.0.0.1:5001/api/data')\n",
    "response.json()"
   ]
  },
  {
   "cell_type": "markdown",
   "metadata": {},
   "source": [
    "### Access data from our Flask server using JavaScript\n",
    "This sample is very similar to Full-Stack as the JavaScript is running through Jupyter and the Web server is a Python Process running on our machine (local server).\n",
    "\n",
    "1. HTML is used to setup basics of a table\n",
    "2. The script block, has javascript fetch that passes endpoint (url) and options.  The options are critical to communicating request requirements.\n",
    "3. Similar to python examples, data is extracted and that data is written to the document, which is what is viewable to the user as the page is rendered.  Headings are static in the document, but rows are dynamically extracted according to the information contained in the server."
   ]
  },
  {
   "cell_type": "code",
   "execution_count": null,
   "metadata": {
    "vscode": {
     "languageId": "html"
    }
   },
   "outputs": [],
   "source": [
    "%%html\n",
    "\n",
    "<h1>Access data from our Flask server using JavaScript</h1>\n",
    "\n",
    "<p>This code extracts data \"live\" from a local Web Server with JavaScript fetch.  Additionally, it formats the data into a table.</p>\n",
    "\n",
    "<!-- Head contains information to Support the Document -->\n",
    "\n",
    "\n",
    "<!-- HTML table fragment for page -->\n",
    "<table id=\"demo\" class=\"table\">\n",
    "  <thead>\n",
    "      <tr>\n",
    "          <th>First Name</th>\n",
    "          <th>Last Name</th>\n",
    "          <th>Residence</th>\n",
    "      </tr>\n",
    "  </thead>\n",
    "  <tbody id=\"result\">\n",
    "    <!-- javascript generated data -->\n",
    "  </tbody>\n",
    "</table>\n",
    "\n",
    "<script>\n",
    "  // prepare HTML result container for new output\n",
    "  let resultContainer = document.getElementById(\"result\");\n",
    "  \n",
    "  // prepare URL\n",
    "  url = \"http://127.0.0.1:5001/api/data\";\n",
    "\n",
    "  // set options for cross origin header request\n",
    "  let options = {\n",
    "    method: 'GET', // *GET, POST, PUT, DELETE, etc.\n",
    "    mode: 'cors', // no-cors, *cors, same-origin\n",
    "    cache: 'default', // *default, no-cache, reload, force-cache, only-if-cached\n",
    "    credentials: 'include', // include, *same-origin, omit\n",
    "    headers: {\n",
    "      'Content-Type': 'application/json',\n",
    "    },\n",
    "  };\n",
    "\n",
    "  // fetch the API\n",
    "  fetch(url, options)\n",
    "    // response is a RESTful \"promise\" on any successful fetch\n",
    "    .then(response => {\n",
    "      // check for response errors and display\n",
    "      if (response.status !== 200) {\n",
    "          console.error(response.status);\n",
    "          return;\n",
    "      }\n",
    "      // valid response will contain json data\n",
    "      response.json().then(data => {\n",
    "          console.log(data);\n",
    "          for (const row of data) {\n",
    "            // tr and td build out for each row\n",
    "            const tr = document.createElement(\"tr\");\n",
    "            const firstname = document.createElement(\"td\");\n",
    "            const lastname = document.createElement(\"td\");\n",
    "            const residence = document.createElement(\"td\");\n",
    "            // data is specific to the API\n",
    "            firstname.innerHTML = row.FirstName; \n",
    "            lastname.innerHTML = row.LastName; \n",
    "            residence.innerHTML = row.Residence; \n",
    "            // this builds each td into tr\n",
    "            tr.appendChild(firstname);\n",
    "            tr.appendChild(lastname);\n",
    "            tr.appendChild(residence);\n",
    "            // add HTML to container\n",
    "            resultContainer.appendChild(tr);\n",
    "          }\n",
    "      })\n",
    "  })\n",
    "  \n",
    "</script>\n",
    "\n"
   ]
  },
  {
   "cell_type": "markdown",
   "metadata": {},
   "source": [
    "### Stop the Python/Flask process\n",
    "This script ends Python/Flask process using pipes to obtain the python process.  Then echo the python process to `kill -9`.  "
   ]
  },
  {
   "cell_type": "code",
   "execution_count": null,
   "metadata": {
    "vscode": {
     "languageId": "bat"
    }
   },
   "outputs": [],
   "source": [
    "%%script bash\n",
    "\n",
    "python_ps=$(lsof -i :5001 | awk '/Python/ {print $2}')\n",
    "echo \"Killing python process with PID: $python_ps\"\n",
    "echo $python_ps | xargs kill -9"
   ]
  },
  {
   "cell_type": "markdown",
   "metadata": {},
   "source": [
    "## Hacks\n",
    "Edit, stop and start the web server.\n",
    "- Add to the Home Page\n",
    "- Add your own information to the Web API\n",
    "- Use from Template to start your own Team Flask project https://github.com/nighthawkcoders/flocker_backend"
   ]
  }
 ],
 "metadata": {
  "kernelspec": {
   "display_name": "venv",
   "language": "python",
   "name": "python3"
  },
  "language_info": {
   "codemirror_mode": {
    "name": "ipython",
    "version": 3
   },
   "file_extension": ".py",
   "mimetype": "text/x-python",
   "name": "python",
   "nbconvert_exporter": "python",
   "pygments_lexer": "ipython3",
   "version": "3.12.5"
  },
  "orig_nbformat": 4
 },
 "nbformat": 4,
 "nbformat_minor": 2
}

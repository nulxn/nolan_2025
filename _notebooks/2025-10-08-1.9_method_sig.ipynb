{
 "cells": [
  {
   "cell_type": "raw",
   "id": "5d4b7dd1",
   "metadata": {
    "vscode": {
     "languageId": "raw"
    }
   },
   "source": [
    "---\n",
    "title: Method Signatures\n",
    "description: Student Teaching Lesson\n",
    "layout: post\n",
    "type: hacks\n",
    "comments: true\n",
    "courses: { compsci: {week: 8} }\n",
    "Author: Aashray, Sai, Manas\n",
    "---"
   ]
  },
  {
   "cell_type": "markdown",
   "id": "0993614f",
   "metadata": {},
   "source": [
    "# Popcorn Hack 1"
   ]
  },
  {
   "cell_type": "code",
   "execution_count": 2,
   "id": "34f43c83",
   "metadata": {
    "vscode": {
     "languageId": "java"
    }
   },
   "outputs": [
    {
     "name": "stdout",
     "output_type": "stream",
     "text": [
      "9\n",
      "-2\n",
      "3.5\n",
      "2.0\n"
     ]
    }
   ],
   "source": [
    "public class PopcornMax {\n",
    "    // int overload\n",
    "    public static int max(int a, int b) {\n",
    "        return a >= b ? a : b;\n",
    "    }\n",
    "\n",
    "    // double overload\n",
    "    public static double max(double a, double b) {\n",
    "        return a >= b ? a : b;\n",
    "    }\n",
    "\n",
    "    public static void main(String[] args) {\n",
    "        System.out.println(max(3, 9));      // 9\n",
    "        System.out.println(max(-2, -7));    // -2\n",
    "        System.out.println(max(3.5, 2.9));  // 3.5\n",
    "        System.out.println(max(2, 2.0));    // 2.0  (int 2 promoted to double → calls max(double,double))\n",
    "    }\n",
    "}\n",
    "PopcornMax.main(null);"
   ]
  },
  {
   "cell_type": "markdown",
   "id": "45b42405",
   "metadata": {},
   "source": [
    "# Popcorn Hack 2"
   ]
  },
  {
   "cell_type": "code",
   "execution_count": 4,
   "id": "7d079e54",
   "metadata": {
    "vscode": {
     "languageId": "java"
    }
   },
   "outputs": [
    {
     "name": "stdout",
     "output_type": "stream",
     "text": [
      "int:42\n",
      "str:hello\n",
      "str:A!\n"
     ]
    }
   ],
   "source": [
    "public class PopcornPrint {\n",
    "    static void print(int n) {\n",
    "        System.out.println(\"int:\" + n);\n",
    "    }\n",
    "\n",
    "    static void print(String s) {\n",
    "        System.out.println(\"str:\" + s);\n",
    "    }\n",
    "\n",
    "    public static void main(String[] args) {\n",
    "        print(42);          // expected: int:42\n",
    "        print(\"hello\");     // expected: str:hello\n",
    "        print('A' + \"!\");   // expected: str:A!\n",
    "    }\n",
    "}\n",
    "PopcornPrint.main(null);"
   ]
  },
  {
   "cell_type": "markdown",
   "id": "480c988e",
   "metadata": {},
   "source": [
    "# FRQ"
   ]
  },
  {
   "cell_type": "code",
   "execution_count": 6,
   "id": "94f0e38c",
   "metadata": {
    "vscode": {
     "languageId": "java"
    }
   },
   "outputs": [
    {
     "name": "stdout",
     "output_type": "stream",
     "text": [
      "15\n",
      "28.274333882308138\n",
      "12\n",
      "45/50\n",
      "92.4%\n"
     ]
    }
   ],
   "source": [
    "public class FrqTemplates {\n",
    "    // FRQ 1\n",
    "    public static int sumRange(int start, int end) {\n",
    "        if (start > end) return 0;\n",
    "        int sum = 0;\n",
    "        for (int n = start; n <= end; n++) {\n",
    "            sum += n;\n",
    "        }\n",
    "        return sum;\n",
    "    }\n",
    "\n",
    "    // FRQ 2\n",
    "    public static double area(double radius) {\n",
    "        return Math.PI * radius * radius;\n",
    "    }\n",
    "    public static int area(int width, int height) {\n",
    "        return width * height;\n",
    "    }\n",
    "\n",
    "    // FRQ 3\n",
    "    public static String formatScore(int earned, int total) {\n",
    "        return earned + \"/\" + total;\n",
    "    }\n",
    "    public static String formatScore(double percent) {\n",
    "        return String.format(\"%.1f%%\", percent);\n",
    "    }\n",
    "\n",
    "    public static void main(String[] args) {\n",
    "        System.out.println(sumRange(1, 5));      // expected: 15\n",
    "        System.out.println(area(3.0));           // expected: ~28.274333882308138\n",
    "        System.out.println(area(3, 4));          // expected: 12\n",
    "        System.out.println(formatScore(45, 50)); // expected: 45/50\n",
    "        System.out.println(formatScore(92.35));  // expected: 92.4%\n",
    "    }\n",
    "}\n",
    "FrqTemplates.main(null);"
   ]
  },
  {
   "cell_type": "markdown",
   "id": "7e1bc0e0",
   "metadata": {},
   "source": [
    "----\n",
    "---"
   ]
  },
  {
   "cell_type": "markdown",
   "id": "80f91fe3",
   "metadata": {},
   "source": [
    "# HOMEWORK: mcq"
   ]
  },
  {
   "cell_type": "markdown",
   "id": "18f4cf24",
   "metadata": {},
   "source": [
    "## Q1"
   ]
  },
  {
   "cell_type": "code",
   "execution_count": 21,
   "id": "d29d13ed",
   "metadata": {
    "vscode": {
     "languageId": "java"
    }
   },
   "outputs": [
    {
     "ename": "CompilationException",
     "evalue": "",
     "output_type": "error",
     "traceback": [
      "\u001b[1m\u001b[30m|   \u001b[1m\u001b[30m    \u001b[0m\u001b[1m\u001b[30m\u001b[41mint f(int x) { return x; }\u001b[0m\u001b[1m\u001b[30m  \u001b[0m",
      "\u001b[1m\u001b[31mmethod f(int) is already defined in class A\u001b[0m",
      ""
     ]
    }
   ],
   "source": [
    "// A\n",
    "class A {\n",
    "    int f(int a) { return a; }\n",
    "    int f(int x) { return x; }  \n",
    "}"
   ]
  },
  {
   "cell_type": "code",
   "execution_count": 22,
   "id": "82f20e55",
   "metadata": {
    "vscode": {
     "languageId": "java"
    }
   },
   "outputs": [
    {
     "ename": "CompilationException",
     "evalue": "",
     "output_type": "error",
     "traceback": [
      "\u001b[1m\u001b[30m|   \u001b[1m\u001b[30m    \u001b[0m\u001b[1m\u001b[30m\u001b[41mdouble f(int a) { return a; }\u001b[0m\u001b[1m\u001b[30m \u001b[0m",
      "\u001b[1m\u001b[31mmethod f(int) is already defined in class B\u001b[0m",
      ""
     ]
    }
   ],
   "source": [
    "// B\n",
    "class B {\n",
    "    int f(int a) { return a; }\n",
    "    double f(int a) { return a; } \n",
    "}"
   ]
  },
  {
   "cell_type": "code",
   "execution_count": 23,
   "id": "c30cdc34",
   "metadata": {
    "vscode": {
     "languageId": "java"
    }
   },
   "outputs": [
    {
     "ename": "IncompleteSourceException",
     "evalue": "// C\nclass C {\n    int f(int a) { System.out.println(\"C.f(int)\"); return a; }",
     "output_type": "error",
     "traceback": [
      "\u001b[1m\u001b[31mIncomplete input:\u001b[0m",
      "\u001b[1m\u001b[30m|   \u001b[1m\u001b[30m// C\u001b[0m",
      "\u001b[1m\u001b[30m|   \u001b[1m\u001b[30mclass C {\u001b[0m",
      "\u001b[1m\u001b[30m|   \u001b[1m\u001b[30m    int f(int a) { System.out.println(\"C.f(int)\"); return a; }\u001b[0m"
     ]
    }
   ],
   "source": [
    "// C\n",
    "class C {\n",
    "    int f(int a) { System.out.println(\"C.f(int)\"); return a; }\n",
    "   "
   ]
  },
  {
   "cell_type": "code",
   "execution_count": 24,
   "id": "0ec10184",
   "metadata": {
    "vscode": {
     "languageId": "java"
    }
   },
   "outputs": [
    {
     "ename": "CompilationException",
     "evalue": "",
     "output_type": "error",
     "traceback": [
      "\u001b[1m\u001b[30m|   \u001b[1m\u001b[30m    \u001b[0m\u001b[1m\u001b[30m\u001b[41mint f(int a, int b) { return a-b; }\u001b[0m\u001b[1m\u001b[30m  \u001b[0m",
      "\u001b[1m\u001b[31mmethod f(int,int) is already defined in class D\u001b[0m",
      ""
     ]
    }
   ],
   "source": [
    "// D\n",
    "class D {\n",
    "    int f(int a, int b) { return a+b; }\n",
    "    int f(int a, int b) { return a-b; }  \n",
    "}"
   ]
  },
  {
   "cell_type": "markdown",
   "id": "0265f657",
   "metadata": {},
   "source": [
    "### Answer: C"
   ]
  },
  {
   "cell_type": "markdown",
   "id": "5c41a47d",
   "metadata": {},
   "source": [
    "---"
   ]
  },
  {
   "cell_type": "markdown",
   "id": "2587a47b",
   "metadata": {},
   "source": [
    "## Q2"
   ]
  },
  {
   "cell_type": "code",
   "execution_count": 30,
   "id": "b8986c2d",
   "metadata": {
    "vscode": {
     "languageId": "java"
    }
   },
   "outputs": [
    {
     "ename": "CompilationException",
     "evalue": "",
     "output_type": "error",
     "traceback": [
      "\u001b[1m\u001b[30m|   \u001b[1m\u001b[30m    \u001b[0m\u001b[1m\u001b[30m\u001b[41mint max(int x, int y) { return b; }\u001b[0m\u001b[1m\u001b[30m \u001b[0m",
      "\u001b[1m\u001b[31mmethod max(int,int) is already defined in class SignatureTest\u001b[0m",
      "",
      "\u001b[1m\u001b[30m|   \u001b[1m\u001b[30m    \u001b[0m\u001b[1m\u001b[30m\u001b[41mint max(int a, int b) { return a; }\u001b[0m\u001b[1m\u001b[30m\u001b[0m",
      "\u001b[1m\u001b[31mmethod max(int,int) is already defined in class SignatureTest\u001b[0m",
      "",
      "\u001b[1m\u001b[30m|   \u001b[1m\u001b[30m    int max(int x, int y) { return \u001b[0m\u001b[1m\u001b[30m\u001b[41mb\u001b[0m\u001b[1m\u001b[30m; } \u001b[0m",
      "\u001b[1m\u001b[31mcannot find symbol\u001b[0m",
      "\u001b[1m\u001b[31m  symbol:   variable b\u001b[0m",
      ""
     ]
    }
   ],
   "source": [
    "class SignatureTest {\n",
    "    int max(int a, int b) { return a; }\n",
    "    int max(int x, int y) { return b; } \n",
    "    int max(int a, int b) { return a; }\n",
    "    double max(int a, double b) { return b; } \n",
    "}"
   ]
  },
  {
   "cell_type": "markdown",
   "id": "28f5ebfb",
   "metadata": {},
   "source": [
    "### Answer: B"
   ]
  },
  {
   "cell_type": "markdown",
   "id": "b632385a",
   "metadata": {},
   "source": [
    "---"
   ]
  },
  {
   "cell_type": "markdown",
   "id": "c42566f2",
   "metadata": {},
   "source": [
    "## Q3"
   ]
  },
  {
   "cell_type": "code",
   "execution_count": 31,
   "id": "418e3c18",
   "metadata": {
    "vscode": {
     "languageId": "java"
    }
   },
   "outputs": [
    {
     "name": "stdout",
     "output_type": "stream",
     "text": [
      "int\n",
      "double\n"
     ]
    }
   ],
   "source": [
    "class OverloadTest {\n",
    "    static void p(int x) {\n",
    "        System.out.println(\"int\");\n",
    "    }\n",
    "    static void p(double x) {\n",
    "        System.out.println(\"double\");\n",
    "    }\n",
    "}\n",
    "\n",
    "OverloadTest.p(5);\n",
    "OverloadTest.p(5.0);"
   ]
  },
  {
   "cell_type": "markdown",
   "id": "3b9ce481",
   "metadata": {},
   "source": [
    "### Answer: A"
   ]
  },
  {
   "cell_type": "markdown",
   "id": "d1c67892",
   "metadata": {},
   "source": [
    "---"
   ]
  },
  {
   "cell_type": "markdown",
   "id": "2ad23eb5",
   "metadata": {},
   "source": [
    "## Q4"
   ]
  },
  {
   "cell_type": "code",
   "execution_count": 34,
   "id": "7ef15663",
   "metadata": {
    "vscode": {
     "languageId": "java"
    }
   },
   "outputs": [
    {
     "ename": "CompilationException",
     "evalue": "",
     "output_type": "error",
     "traceback": [
      "\u001b[1m\u001b[30m|   \u001b[1m\u001b[30m\u001b[0m\u001b[1m\u001b[30m\u001b[41mAmbiguousTest.h\u001b[0m\u001b[1m\u001b[30m(5.0);\u001b[0m",
      "\u001b[1m\u001b[31mno suitable method found for h(double)\u001b[0m",
      "\u001b[1m\u001b[31m    method AmbiguousTest.h(long) is not applicable\u001b[0m",
      "\u001b[1m\u001b[31m      (argument mismatch; possible lossy conversion from double to long)\u001b[0m",
      "\u001b[1m\u001b[31m    method AmbiguousTest.h(float) is not applicable\u001b[0m",
      "\u001b[1m\u001b[31m      (argument mismatch; possible lossy conversion from double to float)\u001b[0m",
      ""
     ]
    }
   ],
   "source": [
    "class AmbiguousTest {\n",
    "    static void h(long x) { System.out.println(\"long\"); }\n",
    "    static void h(float x) { System.out.println(\"float\"); }\n",
    "}\n",
    "\n",
    "AmbiguousTest.h(5.0);    \n",
    "AmbiguousTest.h(5f);  \n"
   ]
  },
  {
   "cell_type": "markdown",
   "id": "91dda7fb",
   "metadata": {},
   "source": [
    "### Answer: A"
   ]
  },
  {
   "cell_type": "markdown",
   "id": "5ebb1871",
   "metadata": {},
   "source": [
    "---"
   ]
  },
  {
   "cell_type": "markdown",
   "id": "5e1f1d6e",
   "metadata": {},
   "source": [
    "## Q5\n",
    "\n",
    "### answer: D\n",
    "Overloading requires different parameter lists, this is exactly how Java distinguishes between overloaded methods.\n"
   ]
  },
  {
   "cell_type": "markdown",
   "id": "7ed3ef72",
   "metadata": {},
   "source": [
    "\n",
    "---"
   ]
  },
  {
   "cell_type": "markdown",
   "id": "8affba78",
   "metadata": {},
   "source": [
    "# HOMEWORK: coding task"
   ]
  },
  {
   "cell_type": "code",
   "execution_count": 38,
   "id": "daf0f6a6",
   "metadata": {
    "vscode": {
     "languageId": "java"
    }
   },
   "outputs": [
    {
     "name": "stdout",
     "output_type": "stream",
     "text": [
      "abs(-5): 5\n",
      "abs(-5.5): 5.5\n",
      "abs(-5000000000L): 5000000000\n",
      "\n",
      "concat(\"Hi\", \"There\"): HiThere\n",
      "concat(\"Go\", 3): GoGoGo\n",
      "\n",
      "int\n",
      "long\n",
      "double\n"
     ]
    }
   ],
   "source": [
    "public class OverloadTasks {\n",
    "\n",
    "    // 1️⃣ Three overloads of abs\n",
    "    static int abs(int x) {\n",
    "        return (x < 0) ? -x : x;\n",
    "    }\n",
    "\n",
    "    static double abs(double x) {\n",
    "        return (x < 0) ? -x : x;\n",
    "    }\n",
    "\n",
    "    static long abs(long x) {\n",
    "        return (x < 0) ? -x : x;\n",
    "    }\n",
    "\n",
    "    // 2️⃣ Two overloads of concat\n",
    "    static String concat(String a, String b) {\n",
    "        return a + b;\n",
    "    }\n",
    "\n",
    "    static String concat(String a, int n) {\n",
    "        String result = \"\";\n",
    "        for (int i = 0; i < n; i++) {\n",
    "            result += a;\n",
    "        }\n",
    "        return result;\n",
    "    }\n",
    "\n",
    "    // 3️⃣ show() overloads\n",
    "    static void show(int x) {\n",
    "        System.out.println(\"int\");\n",
    "    }\n",
    "\n",
    "    static void show(double x) {\n",
    "        System.out.println(\"double\");\n",
    "    }\n",
    "\n",
    "    static void show(long x) {\n",
    "        System.out.println(\"long\");\n",
    "    }\n",
    "\n",
    "    // 🧪 Main test\n",
    "    public static void main(String[] args) {\n",
    "        // Test abs\n",
    "        System.out.println(\"abs(-5): \" + abs(-5));\n",
    "        System.out.println(\"abs(-5.5): \" + abs(-5.5));\n",
    "        System.out.println(\"abs(-5000000000L): \" + abs(-5000000000L));\n",
    "\n",
    "        System.out.println();\n",
    "\n",
    "        // Test concat\n",
    "        System.out.println(\"concat(\\\"Hi\\\", \\\"There\\\"): \" + concat(\"Hi\", \"There\"));\n",
    "        System.out.println(\"concat(\\\"Go\\\", 3): \" + concat(\"Go\", 3));\n",
    "\n",
    "        System.out.println();\n",
    "\n",
    "        // Test show outputs\n",
    "        show(7);     // int literal\n",
    "        show(7L);    // long literal\n",
    "        show(7.0);   // double literal\n",
    "    }\n",
    "}\n",
    "\n",
    "// Run it 👇\n",
    "OverloadTasks.main(null);"
   ]
  },
  {
   "cell_type": "markdown",
   "id": "5babd8db",
   "metadata": {},
   "source": [
    "### Explanations\n",
    "\n",
    "1. **abs(-5)**  \n",
    "    - Uses the `int` version of `abs` because the argument `-5` is an `int` literal.  \n",
    "    - Returns the absolute value of `-5`, which is `5`.\n",
    "\n",
    "2. **abs(-5.5)**  \n",
    "    - Uses the `double` version of `abs` because the argument `-5.5` is a `double` literal.  \n",
    "    - Returns the absolute value of `-5.5`, which is `5.5`.\n",
    "\n",
    "3. **abs(-5000000000L)**  \n",
    "    - Uses the `long` version of `abs` because the argument `-5000000000L` is a `long` literal.  \n",
    "    - Returns the absolute value of `-5000000000L`, which is `5000000000L`.\n",
    "\n",
    "4. **concat(\"Hi\", \"There\")**  \n",
    "    - Uses the `concat(String, String)` method because both arguments are strings.  \n",
    "    - Joins the two strings end-to-end, resulting in `\"HiThere\"`.\n",
    "\n",
    "5. **concat(\"Go\", 3)**  \n",
    "    - Uses the `concat(String, int)` method because the first argument is a string and the second is an integer.  \n",
    "    - Repeats the string `\"Go\"` three times, resulting in `\"GoGoGo\"`.\n",
    "\n",
    "6. **show(7)**  \n",
    "    - Uses the `show(int)` method because `7` is an `int` literal.  \n",
    "    - Prints `\"int\"`.\n",
    "\n",
    "7. **show(7L)**  \n",
    "    - Uses the `show(long)` method because `7L` is a `long` literal.  \n",
    "    - Prints `\"long\"`.\n",
    "\n",
    "8. **show(7.0)**  \n",
    "    - Uses the `show(double)` method because `7.0` is a `double` literal.  \n",
    "    - Prints `\"double\"`."
   ]
  },
  {
   "cell_type": "markdown",
   "id": "73e332b2",
   "metadata": {},
   "source": [
    "---"
   ]
  },
  {
   "cell_type": "markdown",
   "id": "e801e494",
   "metadata": {},
   "source": [
    "# HOMEWORK: frq"
   ]
  },
  {
   "cell_type": "code",
   "execution_count": 39,
   "id": "86c870b6",
   "metadata": {
    "vscode": {
     "languageId": "java"
    }
   },
   "outputs": [
    {
     "name": "stdout",
     "output_type": "stream",
     "text": [
      "1\n",
      "-1\n",
      "1\n",
      "2\n",
      "-1\n",
      "\n",
      "5\n",
      "1\n",
      "10\n",
      "5\n",
      "3.5\n",
      "2.0\n",
      "5.0\n",
      "4.0\n"
     ]
    }
   ],
   "source": [
    "public class FRQOverloads {\n",
    "\n",
    "    // FRQ 1: indexOf (char version)\n",
    "    // Assumptions:\n",
    "    // - s is not null\n",
    "    // - search is case sensitive\n",
    "    // - returns -1 if target not found\n",
    "    static int indexOf(char target, String s) {\n",
    "        for (int i = 0; i < s.length(); i++) {\n",
    "            if (s.charAt(i) == target) {\n",
    "                return i;\n",
    "            }\n",
    "        }\n",
    "        return -1;\n",
    "    }\n",
    "\n",
    "    // FRQ 1: indexOf (substring version)\n",
    "    // Assumptions:\n",
    "    // - s and target are not null\n",
    "    // - target is non-empty\n",
    "    // - returns -1 if substring not found\n",
    "    static int indexOf(String target, String s) {\n",
    "        int tLen = target.length();\n",
    "        int sLen = s.length();\n",
    "\n",
    "        // loop through s, checking if target starts at each index\n",
    "        for (int i = 0; i <= sLen - tLen; i++) {\n",
    "            boolean match = true;\n",
    "            for (int j = 0; j < tLen; j++) {\n",
    "                if (s.charAt(i + j) != target.charAt(j)) {\n",
    "                    match = false;\n",
    "                    break;\n",
    "                }\n",
    "            }\n",
    "            if (match) return i;\n",
    "        }\n",
    "        return -1;\n",
    "    }\n",
    "\n",
    "    // FRQ 2: clamp (int version)\n",
    "    // Assumptions:\n",
    "    // - low and high can be in any order; swap if low > high\n",
    "    static int clamp(int value, int low, int high) {\n",
    "        if (low > high) { // swap\n",
    "            int temp = low;\n",
    "            low = high;\n",
    "            high = temp;\n",
    "        }\n",
    "        if (value < low) return low;\n",
    "        if (value > high) return high;\n",
    "        return value;\n",
    "    }\n",
    "\n",
    "    // FRQ 2: clamp (double version)\n",
    "    static double clamp(double value, double low, double high) {\n",
    "        if (low > high) { // swap\n",
    "            double temp = low;\n",
    "            low = high;\n",
    "            high = temp;\n",
    "        }\n",
    "        if (value < low) return low;\n",
    "        if (value > high) return high;\n",
    "        return value;\n",
    "    }\n",
    "\n",
    "    // Main test\n",
    "    public static void main(String[] args) {\n",
    "        // FRQ 1 tests\n",
    "        System.out.println(indexOf('a', \"banana\"));     // 1\n",
    "        System.out.println(indexOf('z', \"banana\"));     // -1\n",
    "        System.out.println(indexOf(\"ana\", \"banana\"));   // 1\n",
    "        System.out.println(indexOf(\"nana\", \"banana\"));  // 2\n",
    "        System.out.println(indexOf(\"zzz\", \"banana\"));   // -1\n",
    "\n",
    "        System.out.println();\n",
    "\n",
    "        // FRQ 2 tests\n",
    "        System.out.println(clamp(5, 1, 10));       // 5\n",
    "        System.out.println(clamp(-5, 1, 10));      // 1\n",
    "        System.out.println(clamp(15, 1, 10));      // 10\n",
    "        System.out.println(clamp(5, 10, 1));       // 5 (swap handled)\n",
    "\n",
    "        System.out.println(clamp(3.5, 2.0, 5.0));  // 3.5\n",
    "        System.out.println(clamp(1.0, 2.0, 5.0));  // 2.0\n",
    "        System.out.println(clamp(8.0, 2.0, 5.0));  // 5.0\n",
    "        System.out.println(clamp(4.0, 7.0, 2.0));  // 4.0 (swap handled)\n",
    "    }\n",
    "}\n",
    "\n",
    "// Run in Jupyter:\n",
    "FRQOverloads.main(null);\n"
   ]
  }
 ],
 "metadata": {
  "kernelspec": {
   "display_name": "Java",
   "language": "java",
   "name": "java"
  },
  "language_info": {
   "codemirror_mode": "java",
   "file_extension": ".jshell",
   "mimetype": "text/x-java-source",
   "name": "Java",
   "pygments_lexer": "java",
   "version": "17.0.16+0"
  }
 },
 "nbformat": 4,
 "nbformat_minor": 5
}

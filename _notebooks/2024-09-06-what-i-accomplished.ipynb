{
 "cells": [
  {
   "cell_type": "raw",
   "metadata": {
    "vscode": {
     "languageId": "raw"
    }
   },
   "source": [
    "---\n",
    "layout: post\n",
    "title: What I attempted vs What I accomplished\n",
    "description: This is for the assignment\n",
    "permalink: /posts/what\n",
    "comments: true\n",
    "---"
   ]
  },
  {
   "cell_type": "markdown",
   "metadata": {},
   "source": [
    "## Athletic-data"
   ]
  },
  {
   "cell_type": "markdown",
   "metadata": {},
   "source": [
    "I had a goal to make a small project that projected track and cross country times based on PRs.\n",
    "I spent a lot of time making the base website and I wanted the website to look cool and have lot's of features."
   ]
  },
  {
   "cell_type": "markdown",
   "metadata": {
    "vscode": {
     "languageId": "raw"
    }
   },
   "source": [
    "### What I accomplished"
   ]
  },
  {
   "cell_type": "markdown",
   "metadata": {},
   "source": [
    "I ended up making the website and I made it have pretty cool css. but, I still need to work on my css skills and the website looks a little funky. I also have issues with the font on different pages of the website."
   ]
  },
  {
   "cell_type": "markdown",
   "metadata": {},
   "source": [
    "**Link to the github for it**\n",
    "[![athletic-data](https://github-readme-stats.vercel.app/api/pin/?username=nulxn&repo=athletic-data&theme=dracula)](https://github.com/nulxn/athletic-data)"
   ]
  }
 ],
 "metadata": {
  "kernelspec": {
   "display_name": "venv",
   "language": "python",
   "name": "python3"
  },
  "language_info": {
   "codemirror_mode": {
    "name": "ipython",
    "version": 3
   },
   "file_extension": ".py",
   "mimetype": "text/x-python",
   "name": "python",
   "nbconvert_exporter": "python",
   "pygments_lexer": "ipython3",
   "version": "3.12.3"
  }
 },
 "nbformat": 4,
 "nbformat_minor": 2
}

{
 "cells": [
  {
   "cell_type": "raw",
   "metadata": {
    "vscode": {
     "languageId": "raw"
    }
   },
   "source": [
    "---\n",
    "layout: post\n",
    "title: What I attempted vs What I accomplished\n",
    "description: This is for the assignment\n",
    "permalink: /posts/what\n",
    "comments: true\n",
    "---"
   ]
  },
  {
   "cell_type": "markdown",
   "metadata": {},
   "source": [
    "## Sprint 1"
   ]
  },
  {
   "cell_type": "markdown",
   "metadata": {},
   "source": [
    "I had a goal to make a small project that projected track and cross country times based on PRs.\n",
    "I spent a lot of time making the base website and I wanted the website to look cool and have lot's of features."
   ]
  },
  {
   "cell_type": "markdown",
   "metadata": {
    "vscode": {
     "languageId": "raw"
    }
   },
   "source": [
    "### What I accomplished"
   ]
  },
  {
   "cell_type": "markdown",
   "metadata": {},
   "source": [
    "I ended up making the website and I made it have pretty cool css. but, I still need to work on my css skills and the website looks a little funky. I also have issues with the font on different pages of the website."
   ]
  },
  {
   "cell_type": "markdown",
   "metadata": {},
   "source": [
    "**Link to the github for it**\n",
    "[![athletic-data](https://github-readme-stats.vercel.app/api/pin/?username=nulxn&repo=athletic-data&theme=dracula)](https://github.com/nulxn/athletic-data)"
   ]
  },
  {
   "cell_type": "markdown",
   "metadata": {},
   "source": [
    "## Sprint 2\n",
    "\n",
    "Nolan's Issue: https://github.com/nulxn/portfolio_2025/issues/7\n",
    "\n",
    "Jacob's Issue: https://github.com/jacobcancode/jacob_2025/issues/6\n",
    "\n",
    "Claire's Issue:\n",
    "\n",
    "**Team Accomplishments:**\n",
    "* We got everything done, depsite each of us being absent\n",
    "* Working together, we all collaborated and contributed to the presentation without discourse\n",
    "* Learning, we all learned something about each other and about the content being taught\n",
    "\n",
    "### My section\n"
   ]
  },
  {
   "cell_type": "markdown",
   "metadata": {},
   "source": [
    "Blog - in association with Big Ideas and Teaching, something that shows how you will be prepared for CB and PBL (ie organized accomplishments)\n",
    "Memory - something that will helps Teacher or others recall your individual presentation and contribution (ie a highlight)\n",
    "Relevancy - something impactful you learned from another lesson, note source, and try to use relevancy checklist in language (ie a learning)\n",
    "Beyond Perfunctory - something that shows me that this Sprint on Big Ideas is distinctly yours (ie personal growth or accomplishment)\n",
    "    I used all the things I learned this Sprint to develop a JavaScript application\n"
   ]
  }
 ],
 "metadata": {
  "kernelspec": {
   "display_name": "venv",
   "language": "python",
   "name": "python3"
  },
  "language_info": {
   "codemirror_mode": {
    "name": "ipython",
    "version": 3
   },
   "file_extension": ".py",
   "mimetype": "text/x-python",
   "name": "python",
   "nbconvert_exporter": "python",
   "pygments_lexer": "ipython3",
   "version": "3.12.3"
  }
 },
 "nbformat": 4,
 "nbformat_minor": 2
}

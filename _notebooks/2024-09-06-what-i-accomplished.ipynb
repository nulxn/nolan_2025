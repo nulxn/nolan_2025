{
 "cells": [
  {
   "cell_type": "raw",
   "metadata": {
    "vscode": {
     "languageId": "raw"
    }
   },
   "source": [
    "---\n",
    "layout: post\n",
    "title: What I attempted vs What I accomplished\n",
    "description: This is for the assignment\n",
    "permalink: /posts/what\n",
    "comments: true\n",
    "---"
   ]
  },
  {
   "cell_type": "markdown",
   "metadata": {},
   "source": [
    "## Sprint 1"
   ]
  },
  {
   "cell_type": "markdown",
   "metadata": {},
   "source": [
    "I had a goal to make a small project that projected track and cross country times based on PRs.\n",
    "I spent a lot of time making the base website and I wanted the website to look cool and have lot's of features."
   ]
  },
  {
   "cell_type": "markdown",
   "metadata": {
    "vscode": {
     "languageId": "raw"
    }
   },
   "source": [
    "### What I accomplished"
   ]
  },
  {
   "cell_type": "markdown",
   "metadata": {},
   "source": [
    "I ended up making the website and I made it have pretty cool css. but, I still need to work on my css skills and the website looks a little funky. I also have issues with the font on different pages of the website."
   ]
  },
  {
   "cell_type": "markdown",
   "metadata": {},
   "source": [
    "**Link to the github for it**\n",
    "[![athletic-data](https://github-readme-stats.vercel.app/api/pin/?username=nulxn&repo=athletic-data&theme=dracula)](https://github.com/nulxn/athletic-data)"
   ]
  },
  {
   "cell_type": "markdown",
   "metadata": {},
   "source": [
    "## Sprint 2\n",
    "\n",
    "Nolan's Issue: [link](https://github.com/nulxn/nolan_2025/issues/5)\n",
    "\n",
    "Jacob's Issue: [link](https://github.com/jacobcancode/jacob_2025/issues/6)\n",
    "\n",
    "Claire's Issue: [link](https://github.com/clairelee0817/claire_2025/issues/4)\n",
    "\n",
    "**Team Accomplishments:**\n",
    "* We got everything done, depsite each of us being absent\n",
    "* Working together, we all collaborated and contributed to the presentation without discourse\n",
    "* Learning, we all learned something about each other and about the content being taught\n",
    "\n",
    "### My section\n"
   ]
  },
  {
   "cell_type": "markdown",
   "metadata": {},
   "source": [
    "**Blog** - in association with Big Ideas and Teaching, something that shows how you will be prepared for CB and PBL (ie organized accomplishments)\n",
    "\n",
    "> Something that shows how I will be prepared for College Board and Project-Based Learning is my completion of the homework and the popcorn hacks, and doing it in a high level and understanding the content. I also worked well with my group and collaborated. My github repositories are an archive of my accomplishments, one of my notebooks contains commands and things I did to set up my Sprints, and my notebook of my completed homework and popcorn hacks shows my completion of classwork and preparedness for the next learning content. Also, learning sudo code and differrent cases helped me prepare for the AP Test.\n",
    "\n",
    "**Memory** - something that will helps Teacher or others recall your individual presentation and contribution (ie a highlight)\n",
    "\n",
    "> Something that might help other's recall my lesson was when I went through each line of a Python script and showed an implementation of it in JavaScript. My biggest contribution in class was asking meaningful questions, and clarifying things in the lessons that we were learning. A highlight of Sprint 2 was when Justin got caught on his phone playing Sudoku. Another one my contributions was staying up very late helping Ahmad fix his images, however most of that time was me waiting for him to finish removing spaces from file names.\n",
    "\n",
    "**Relevancy** - something impactful you learned from another lesson, note source, and try to use relevancy checklist in language (ie a learning)\n",
    "\n",
    "> Something impactful that I learned from another lesson was how to do math like the modulo, which helped me with lot's of popcorn hacks and the project outside of class that I have been working on. For example, you can use the modulo to see if a number is even or odd and to limit a value. Another thing I learned was how to do if/elif/else statements in Python. I also learned the different cases in coding and what language each of them are used in.\n",
    "\n",
    "**Beyond Perfunctory** - something that shows me that this Sprint on Big Ideas is distinctly yours (ie personal growth or accomplishment)\n",
    "\n",
    "> I used all the things I learned this Sprint to develop a JavaScript application, which uses the if/else statements, math, variable types, and JSON that we learned over Sprint 2. I made this application by myself, and the only unoriginal part of the code is the formula. This is the best project that I've completed in the span of this sprint that is almost fully completed.\n"
   ]
  }
 ],
 "metadata": {
  "kernelspec": {
   "display_name": "venv",
   "language": "python",
   "name": "python3"
  },
  "language_info": {
   "codemirror_mode": {
    "name": "ipython",
    "version": 3
   },
   "file_extension": ".py",
   "mimetype": "text/x-python",
   "name": "python",
   "nbconvert_exporter": "python",
   "pygments_lexer": "ipython3",
   "version": "3.12.3"
  }
 },
 "nbformat": 4,
 "nbformat_minor": 2
}

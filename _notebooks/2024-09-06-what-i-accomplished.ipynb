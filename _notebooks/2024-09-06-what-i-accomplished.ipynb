{
 "cells": [
  {
   "cell_type": "raw",
   "metadata": {
    "vscode": {
     "languageId": "raw"
    }
   },
   "source": [
    "---\n",
    "layout: post\n",
    "title: What I attempted vs What I accomplished\n",
    "description: This is for the assignment\n",
    "permalink: /posts/what\n",
    "comments: true\n",
    "---"
   ]
  },
  {
   "cell_type": "markdown",
   "metadata": {},
   "source": [
    "## Sprint 1"
   ]
  },
  {
   "cell_type": "markdown",
   "metadata": {},
   "source": [
    "I had a goal to make a small project that projected track and cross country times based on PRs.\n",
    "I spent a lot of time making the base website and I wanted the website to look cool and have lot's of features."
   ]
  },
  {
   "cell_type": "markdown",
   "metadata": {
    "vscode": {
     "languageId": "raw"
    }
   },
   "source": [
    "### What I accomplished"
   ]
  },
  {
   "cell_type": "markdown",
   "metadata": {},
   "source": [
    "I ended up making the website and I made it have pretty cool css. but, I still need to work on my css skills and the website looks a little funky. I also have issues with the font on different pages of the website."
   ]
  },
  {
   "cell_type": "markdown",
   "metadata": {},
   "source": [
    "**Link to the github for it**\n",
    "[![athletic-data](https://github-readme-stats.vercel.app/api/pin/?username=nulxn&repo=athletic-data&theme=dracula)](https://github.com/nulxn/athletic-data)"
   ]
  },
  {
   "cell_type": "markdown",
   "metadata": {},
   "source": [
    "## Sprint 2\n",
    "\n",
    "Nolan's Issue: [link](https://github.com/nulxn/nolan_2025/issues/5)\n",
    "\n",
    "Jacob's Issue: [link](https://github.com/jacobcancode/jacob_2025/issues/6)\n",
    "\n",
    "Claire's Issue: [link](https://github.com/clairelee0817/claire_2025/issues/4)\n",
    "\n",
    "**Team Accomplishments:**\n",
    "* We got everything done, depsite each of us being absent\n",
    "* Working together, we all collaborated and contributed to the presentation without discourse\n",
    "* Learning, we all learned something about each other and about the content being taught\n",
    "\n",
    "### My section\n"
   ]
  },
  {
   "cell_type": "markdown",
   "metadata": {},
   "source": [
    "**Blog** - in association with Big Ideas and Teaching, something that shows how you will be prepared for CB and PBL (ie organized accomplishments)\n",
    "\n",
    "> Something that shows how I will be prepared for College Board and Project-Based Learning is my completion of the homework and the popcorn hacks, and doing it in a high level and understanding the content. I also worked well with my group and collaborated. My github repositories are an archive of my accomplishments, one of my notebooks contains commands and things I did to set up my Sprints, and my notebook of my completed homework and popcorn hacks shows my completion of classwork and preparedness for the next learning content. Also, learning sudo code and differrent cases helped me prepare for the AP Test.\n",
    "\n",
    "**Memory** - something that will helps Teacher or others recall your individual presentation and contribution (ie a highlight)\n",
    "\n",
    "> Something that might help other's recall my lesson was when I went through each line of a Python script and showed an implementation of it in JavaScript. My biggest contribution in class was asking meaningful questions, and clarifying things in the lessons that we were learning. A highlight of Sprint 2 was when Justin got caught on his phone playing Sudoku. Another one my contributions was staying up very late helping Ahmad fix his images, however most of that time was me waiting for him to finish removing spaces from file names.\n",
    "\n",
    "**Relevancy** - something impactful you learned from another lesson, note source, and try to use relevancy checklist in language (ie a learning)\n",
    "\n",
    "> Something impactful that I learned from another lesson was how to do math like the modulo, which helped me with lot's of popcorn hacks and the project outside of class that I have been working on. For example, you can use the modulo to see if a number is even or odd and to limit a value. Another thing I learned was how to do if/elif/else statements in Python. I also learned the different cases in coding and what language each of them are used in.\n",
    "\n",
    "**Beyond Perfunctory** - something that shows me that this Sprint on Big Ideas is distinctly yours (ie personal growth or accomplishment)\n",
    "\n",
    "> I used all the things I learned this Sprint to develop a JavaScript application, which uses the if/else statements, math, variable types, and JSON that we learned over Sprint 2. I made this application by myself, and the only unoriginal part of the code is the formula. This is the best project that I've completed in the span of this sprint that is almost fully completed.\n"
   ]
  },
  {
   "cell_type": "markdown",
   "metadata": {},
   "source": [
    "# Sprint 3\n",
    "\n",
    "In Sprint 3, I did both the frontend and backend. Our project was called FlavorFusion, where you were given a combo that you had to justify and describe to others on a FYP. It combined \"chance\", social media, and rating. We used JSON, the post model with the `_content` parameter to store extra data, and we queired the posts instead of editing the user data.\n",
    "\n",
    "We started by ideating on Google Drawing and coming up with the concept for the website. Then while I worked on an example page using mock data, my partners came up with the different components, such as the dock, and the JSON model of our data. After, we then migrated to the Flocker github repo. I decided to put all of our code into one file, where the pages worked by switching the `InnerHTML` of the main element, since I wanted to share functions and data across all the pages. I could not do this in a clean way, since there was no framework being used to develop the frontend such as **React or Svelte** (my glorious king sveltekit).\n",
    "\n",
    "After the migration was complete and my team and I fleshed out the pages and features, I began to start on the backend. Using the JSON models that my partner Jacob had come up with, I created functions that got all the posts in the channel, found the channel id dynamically using the channel name, and posted to that channel an example post. All the parameters and endpoints were the findings of Claire. Then I integrated it with the frontend so that the end user could create a post, rate another persons post, and roll for a combo. I also added the FYP and the Profile page (but i just realized not that i forgot to add the total posts counter to be real).\n",
    "\n",
    "I also made contributions to the backend, adding the optional parameter of content to a post, and fixing the `PUT` method (but in a kind of broken and *different* way than the other methods).\n",
    "\n",
    "All the core functionality and the nice features have been added, the only missing feature is the combo count on the profile, the leaderboard, and the ability to add a comment, but these are not incredibly important. I also would like to note that multiple checks were ommitted (such as being able to rate a post more than once), and the ones that do exist on the client side (suchas as the cap of 5 stars), but I decided it was not worth it to edit the backend to fix this, since it would effect other groups' projects.\n",
    "\n",
    "## AP MCQ\n",
    "\n",
    "I think College Board is stupid. There was way too much math, and not enough coding. You can definetely tell they put an emphasis on CS PRINCIPLES, and not the actual coding part. The test was also on a bunch of dumb vocab that nobody is never going to use, and talks about irrevelevant instititutions instead of relevant instititutions that most developers should know about, such as a11y, which can cause your website to get sued if it is not compliant.\n",
    "\n",
    "Here is a list of vocab on the test I did not know, and I will only ever try to learn about for the AP Exam:\n",
    "\n",
    "- Internet Engineering Task Force (IETF)\n",
    "- Citizen Science\n",
    "- Digital Divide\n",
    "\n",
    "I got these problems wrong:\n",
    "\n",
    "1. Which of the following would be the best use of citizen science?\n",
    "   correct answer: C; An experiment that requires data measurements to be taken in many different locations\n",
    "2. Which of the following hypotheses is most consistent with the data in the table?\n",
    "   answer: I do not know the correct answer to this question.\n",
    "3. In which configuration is it NOT possible to have redundant routing between computers P and S?\n",
    "   answ: A; the boxed one\n",
    "4. Which of the following best approximates the amount of time it takes the program to execute?\n",
    "   answ: D; 5 hours since it is run initially\n",
    "5. For which of the following strings is it NOT possible to use byte pair encoding to shorten the string’s length?\n",
    "   a: B; \"LEVEL_UP\"\n",
    "6. A text-editing application uses binary sequences to represent each of 200 different characters. What is the minimum number of bits needed to assign a unique bit sequence to each of the possible characters?\n",
    "   a: D; 8, since 2^8 = 246 which hits 200 character requirement.\n",
    "\n",
    "Overall, I got the questions about concepts such as bytes and random vocab wrong, which I will need to study for the AP CSP Exam, but I don't think it will effect my coding expierience."
   ]
  },
  {
   "cell_type": "code",
   "execution_count": null,
   "metadata": {
    "vscode": {
     "languageId": "plaintext"
    }
   },
   "outputs": [],
   "source": [
    "WHY DOES CTRL+ENTER CREATE A NEW CELL??"
   ]
  }
 ],
 "metadata": {
  "kernelspec": {
   "display_name": "venv",
   "language": "python",
   "name": "python3"
  },
  "language_info": {
   "codemirror_mode": {
    "name": "ipython",
    "version": 3
   },
   "file_extension": ".py",
   "mimetype": "text/x-python",
   "name": "python",
   "nbconvert_exporter": "python",
   "pygments_lexer": "ipython3",
   "version": "3.12.3"
  }
 },
 "nbformat": 4,
 "nbformat_minor": 2
}

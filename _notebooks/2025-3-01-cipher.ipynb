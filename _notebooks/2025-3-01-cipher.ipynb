{
 "cells": [
  {
   "cell_type": "raw",
   "metadata": {
    "vscode": {
     "languageId": "raw"
    }
   },
   "source": [
    "---\n",
    "layout: post\n",
    "title: Safe Computing HW\n",
    "description:  This is for the assignment\n",
    "permalink: /posts/cipher\n",
    "comments: true\n",
    "---"
   ]
  },
  {
   "cell_type": "markdown",
   "metadata": {},
   "source": [
    "# safe computing homework hack 2"
   ]
  },
  {
   "cell_type": "code",
   "execution_count": 1,
   "metadata": {},
   "outputs": [
    {
     "name": "stdout",
     "output_type": "stream",
     "text": [
      "Random shift value chosen: 20\n",
      "Result: byffi, qilfx!!!\n"
     ]
    }
   ],
   "source": [
    "import random\n",
    "\n",
    "def caesar_cipher(text, shift, mode):\n",
    "    result = \"\"\n",
    "    for char in text:\n",
    "        if char.isalpha():\n",
    "            shift_amount = shift if mode == \"encrypt\" else -shift\n",
    "            new_char = chr(((ord(char.lower()) - 97 + shift_amount) % 26) + 97)\n",
    "            result += new_char.upper() if char.isupper() else new_char\n",
    "        else:\n",
    "            result += char\n",
    "    return result\n",
    "\n",
    "mode = input(\"Do you want to encrypt or decrypt? \").strip().lower()\n",
    "message = input(\"Enter your message: \")\n",
    "shift_input = input(\"Enter shift value (number of places to shift or type 'random'): \").strip().lower()\n",
    "\n",
    "if shift_input == \"random\":\n",
    "    shift = random.randint(1, 25)\n",
    "    print(f\"Random shift value chosen: {shift}\")\n",
    "else:\n",
    "    shift = int(shift_input)\n",
    "\n",
    "output = caesar_cipher(message, shift, mode)\n",
    "print(f\"Result: {output}\")"
   ]
  },
  {
   "cell_type": "markdown",
   "metadata": {},
   "source": [
    "# list & filtering hw"
   ]
  },
  {
   "cell_type": "code",
   "execution_count": 1,
   "metadata": {},
   "outputs": [
    {
     "name": "stdout",
     "output_type": "stream",
     "text": [
      "After append: ['apple', 'banana', 'cherry', 'date', 'elderberry', 'fig']\n",
      "After sort: ['apple', 'banana', 'cherry', 'date', 'elderberry', 'fig']\n",
      "After remove: ['apple', 'cherry', 'date', 'elderberry', 'fig']\n"
     ]
    }
   ],
   "source": [
    "# Creating a list of 5 items\n",
    "fruits = [\"apple\", \"banana\", \"cherry\", \"date\", \"elderberry\"]\n",
    "\n",
    "# Procedure 1: Adding an item to the list using append()\n",
    "fruits.append(\"fig\")  # Adds \"fig\" to the end of the list\n",
    "print(\"After append:\", fruits)\n",
    "\n",
    "# Procedure 2: Sorting the list alphabetically using sort()\n",
    "fruits.sort()  # Sorts the list in alphabetical order\n",
    "print(\"After sort:\", fruits)\n",
    "\n",
    "# Procedure 3: Removing an item from the list using remove()\n",
    "fruits.remove(\"banana\")  # Removes \"banana\" from the list\n",
    "print(\"After remove:\", fruits)"
   ]
  },
  {
   "cell_type": "markdown",
   "metadata": {},
   "source": [
    "## final reflection\n",
    "\n",
    "Filtering algorithms are used in real life whenever we need to process and extract specific data from a larger dataset, such as sorting customer information or filtering search results. In programming, lists and filtering algorithms are commonly used to manipulate and analyze data, making it easier to derive useful insights or make decisions based on criteria."
   ]
  }
 ],
 "metadata": {
  "kernelspec": {
   "display_name": "venv",
   "language": "python",
   "name": "python3"
  },
  "language_info": {
   "codemirror_mode": {
    "name": "ipython",
    "version": 3
   },
   "file_extension": ".py",
   "mimetype": "text/x-python",
   "name": "python",
   "nbconvert_exporter": "python",
   "pygments_lexer": "ipython3",
   "version": "3.11.2"
  }
 },
 "nbformat": 4,
 "nbformat_minor": 2
}

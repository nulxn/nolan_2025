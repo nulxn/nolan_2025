{
 "cells": [
  {
   "cell_type": "raw",
   "metadata": {
    "vscode": {
     "languageId": "raw"
    }
   },
   "source": [
    "---\n",
    "layout: post\n",
    "title: Pair Showcase\n",
    "description: Anytime in Sprint 1 is time to show accomplishments to teacher. The last week of the Spring there will be a formal live review meeting.\n",
    "categories: [Collaboration]\n",
    "courses: { csse: {week: 3}, csp: {week: 3}, csa: {week: 2} }\n",
    "menu: nav/pair_programming.html\n",
    "permalink: /pair/showcase\n",
    "type: collab\n",
    "comments: true\n",
    "---"
   ]
  },
  {
   "cell_type": "markdown",
   "metadata": {},
   "source": [
    "## Showcase Overview\n",
    "This will be a Live Review!  A Live Review is where Students present to a Teacher.   The Students share accomplishments from the Sprint with the Teacher.  The review will highlight elements from the sprint.\n",
    "\n",
    "Work is performed daily in class, expectations are 2 hours of outside work weekly for CSSE, 3 hours for CSP and CSA.  A Showcase for a Sprint is where you, and in this case your pair, have progressed working on provided Assignments and Hacks in the time provided until you reach the scheduled Showcase.  Everything is iterative, so there is no such thing as extended time in a Sprint Showcase.  Everyday you should be adding work and make blog updates to prepare for the Showcase. "
   ]
  },
  {
   "cell_type": "markdown",
   "metadata": {},
   "source": [
    "## Showcase Requirements\n",
    "This is a culmination of all activities in a Sprint.\n",
    "    - Review Sprint Information.\n",
    "    - Be sure to open and review Sprint Illustration.\n",
    "\n",
    "\n",
    "During the Sprint there is always time to preview, communcate, or checkoff progress with the Teacher; if you have  shared progress during the sprint, be sure to highlight success to jog Teachers memory.  Never, never expect the Teacher to remember something you did.  The Showcase is time for you to shine, impress, and recap journey.\n",
    "\n",
    "\n",
    "- Format of Showcase.   This is a pair event.  This Sprint is focused on Pair Programming and Work, not Individual.   In a class, live reviews for this Showcase will be done in pairs or trios (rare, 3 or less per class) for this event.\n",
    "    - Make sure work is polished and reviewed.  Part of working with a pair is preparation, review, and testing prior to presenting to Teacher.  In the Tech world, quality presentations of Tech are as important as the Tech itself.  Never share work that has not be previewed or share buggy work in a Showcase.  This lacks professionalism.\n",
    "    - Google or Microsoft Docs, Sheets, Presentations are frowned upon and will result in significant deduction.  It is expected that you will be <b>showing materials from your personal Student blog</b>.  The Teacher believes using a blog is helping with your ability to design, organize, and code.\n",
    "    - Pair work can be shared, but both people should be able to talk about anything they expect to be counted toward their personal credit.  If you did not participate or carry your own load on a topic, be honest, don't fake accomplishments.  \n",
    "    - Attempts to get credit by claiming falsely or coat tailing is frowned upon.  \n",
    "- Preparation and Time.  The Showcase requires preparation.  At this event, it would be a mistake to ask \"what do you want to show?\". This type of question should be asked before the showcase.\".  Additionally, there are many sources that have been provided to answer that question.\n",
    "    - Spring Blogs. The hacks within the blogs contain requirements and extras that should/could be incorporated into the materials you present in the Showcase.\n"
   ]
  }
 ],
 "metadata": {
  "language_info": {
   "name": "python"
  },
  "orig_nbformat": 4
 },
 "nbformat": 4,
 "nbformat_minor": 2
}

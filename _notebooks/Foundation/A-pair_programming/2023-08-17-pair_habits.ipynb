{
 "cells": [
  {
   "cell_type": "raw",
   "metadata": {
    "vscode": {
     "languageId": "raw"
    }
   },
   "source": [
    "---\n",
    "layout: post\n",
    "title: Learning Habits\n",
    "description: Establishing pair programming habits in the classroom.  This will extend to other forms of collaboration, such as group work and team projects. \n",
    "categories: [Collaboration]\n",
    "courses: { csse: {week: 1}, csp: {week: 1}, csa: {week: 1} }\n",
    "menu: nav/pair_programming.html\n",
    "permalink: /pair/habits\n",
    "type: collab\n",
    "comments: true\n",
    "sticky_rank: 1\n",
    "---"
   ]
  },
  {
   "cell_type": "markdown",
   "metadata": {},
   "source": [
    "## Habits Intro\n",
    "The provided text text is a comprehensive framework for evaluating students in a Computer Science Project-based learning course, focusing on a broad spectrum of criteria beyond traditional assignment grades. This framework encompasses both soft skills and technical abilities, aiming to create a holistic profile of each student's performance and growth. \n",
    "\n",
    "- Focus and Intentions: This category assesses students' general attitudes and behaviors towards learning, including attendance, work habits, behavior, timeliness, and prerequisite knowledge. It emphasizes the importance of consistent participation, productive work ethics, adaptability, and preparedness for the course.\n",
    "\n",
    "- Technical Progression: This section evaluates students' development of technical skills and understanding over the course. It includes assessments of their initial technical sensibility, their ability to clearly present and explain technical concepts, and their growth in technical expertise as they prepare for significant milestones like the AP exam.\n",
    "\n",
    "- Soft Skills and Presentation: This area focuses on students' interpersonal and self-management skills, including self-advocacy, communication and collaboration, leadership, and integrity. It highlights the importance of effective communication, teamwork, leadership potential, and ethical behavior in both academic and professional settings.\n",
    "\n",
    "The framework suggests that each student's performance is evaluated not just on their academic achievements but also on their work habits, technical skills, and soft skills. This approach aims to provide a more comprehensive assessment of students' readiness for future challenges in Data Science and related fields."
   ]
  },
  {
   "cell_type": "markdown",
   "metadata": {},
   "source": [
    "## Habits and Ongoing Evaluations\n",
    "In any course, \"Grade\", is not the only assessment that is on a report card.  A Student, on a daily basis, establishes work behaviors and demonstrates capabilities with a Teacher.  \n",
    "\n",
    "As an employee, on a daily basis, an individual establishes work behaviors with peers and manager.  Sometimes managers document behaviors.  As Data Science improves, employers are constantly considering bnd re-considering etter techniques for monitoring employee work.\n",
    "\n",
    "In this course, will be establishing a Data Science profile 1/0, or a ratio, for each students, this profile will be maintained by Teacher and will be complemented by the sytems we use.  The course will be using these ratios in evaluating the grade and other assesment criteria for each students project and final report card.\n",
    "\n",
    "\n",
    "- Focus, Intentions \n",
    " \n",
    "    - Attendance:  Does the student have a computer every day, were they tardy, or did they have any irregularities in presence; like being gone for 1/2 hour bathroom breaks, consistently missing intro sessions to class, ...\n",
    "\n",
    "    - Work Habits: Does the student have a class time work ethic or in Teacher perception appears to be productive; do they have collaboration meetings with pair and team? do they do their own work in class time?  do the follow a plan? are the open to change?  are the improving habits?  are their work habits a positive to those around them?...\n",
    "\n",
    "    - Behavior:  Does the student require redirection from Teacher to be on task? are they active and appropriately participating in Tech Talks?  are they actively trying to win habit points? are they focussing on the right things at the right time? do they have grit and persistence? do they avoid distractions like phones, ear phones, head phones, paper? ...\n",
    "\n",
    "    - Timeliness:  Is the student ready to participate in live reviews? are they aware of assignments requirements and due dates? is their work outcome in alignment with assignment expectation? are they on track with work and showing progress? is progress consistent with time period, expectations, and Teacher assessed capabilities? do they keep ahead of the projects?  do they avoid last day, last minute work?   ....\n",
    "\n",
    "    - Qualified, satisfies pre-requisites: Teacher assessment on if the Student was qualified to take class. For instance, some CSA students skip CSP and have had no previous background in CompSci.  Another case, is the student a \"good student\"; someone that completes tasks and accomplishes goals;  someone that is prepared to work in class and do homework;  is the student able to identify their needs and learning style requirements; do they participate; do they ask questions; will they review visuals; talk about problems; attend office hours; Finally, is the student progressing and futher qualify themself through the year; is the student carrying skills from earlier sprints into current sprint.\n",
    "\n",
    "- Technical Progression\n",
    "\n",
    "    - Tech sense: Teacher assesment on the \"technical sense or sensibility\" when entering the class and each sprint throughout the year.  For instance, in the beginning is student able to navigate their own computer, locate files, install software?   Or as they progress through year are they able to use their tools, perform tool updates, keep things working, troubleshoot?  Are they able to navigate through technical elements?  Over time, will they adapt and try to improve efficiency? ...\n",
    "\n",
    "    - Tech talk:  Does the student show the ability to explain what they have been working on?  Are the able to describe technical elements with correct vocabulary?  Are they able to understand technological jargon, understand the technical frameworks in order to explain it to others?  Are they confident and prepared?  ...\n",
    "\n",
    "    - Tech growth: Teacher assesment on \"technical rating\" as the student progresses in class or prepares to take the AP exam.  Did the student acquire technical abilities in each Sprint prior to AP exam?  Does the student learn the Tech, or do they simply try for the points? Is the student building on skills learned as foundations for the next task?   At the time of the AP exam time, did the Teacher believe that they would undoubtedly receive a \"3\" or higher?\n",
    "\n",
    "\n",
    "- Soft Skills, Presentation\n",
    "\n",
    "    - Self advocacy: Teacher assesment and perception on how the student self advocates.  Does the student effectively communicate, convey, negotiate or assert interests, desires, needs?  Does the student seek out help when needed?  Does the student ask questions on Slack, in person, of team members?  Does the student attend Tutorial?  Is the student aware and informed of assignments?   Does student make informed decisions and take responsibility for their own decisions?\n",
    "\n",
    "    - Comm and Collab skills: Teacher assesment and perception on whether the student is a collaborator and communicator in classroom.  Does the Teacher see the student exhibiting collaboritive behaviors?  Does student explain and review work with others? Do they work consistently plan work with others?   Are communication and collaboration behaviors a willing and active attributes in the students persona?  Does the Teacher observe the student as active in communication during live reviews?\n",
    "\n",
    "    - Integrity:  Teacher assesment on how the student represents their own work and behavior. Does the student have a general sense of self-awareness, group-awareness, and how actions impact others?  Does the student and student group respect and follow the rules established in the classroom and by the Teacher?  Without question, did the student do their own work on each assignment and throughout the grading period?  In live reviews, did the Teacher think the student was misrepresenting work as their own?  Did the student stand-by silently as other were presenting, silence usually means coat-tailing in hope for credit?  Was there questionable behavior that was not atoned, for instance being a suspect or caught in cheating scandal?  \n",
    "\n",
    "    - Organized: Teacher assesment or observation on organization and leadership qualities of the student.   Did the Teacher observe the student as having key leadership and organization skills?  Did the Teacher see time management skills exhibited by the student, including creating work issues and schedules, finding the in-between time for things that are not part of the norm?   Did the student exhibit networking, critical thiking, and proactivity?  Did the Teacher see excellence and the student to take on a technical or leadership position in the classroom?  Did the student follow through with that responsibiility?  Would the Teacher or did the Teacher ask the student to perform a task important to the entire classroom?\n",
    "\n",
    "    "
   ]
  },
  {
   "cell_type": "markdown",
   "metadata": {},
   "source": [
    "## Hacks, Learning Habits Table\n",
    "Review criteria above.  In this review, pairs should rate each other base on their mutual experience.\n",
    "\n",
    "Rank to Ratio, rank is an integer  \n",
    "1 = .55\n",
    "2 = .75\n",
    "3 = .85\n",
    "4 = .90\n",
    "4+Mastered-Y = .95\n",
    "\n",
    "| Skill          | Mastered (Y/N) | Rank (1-4)   | Ratio | Notes |\n",
    "|----------------|----------------|--------------|-------|-------|\n",
    "| Attendance     | [ ]            | 0            | 0.0   |       |\n",
    "| Work Habits    | [ ]            | 0            | 0.0   |       |\n",
    "| Behavior       | [ ]            | 0            | 0.0   |       |\n",
    "| Timeliness     | [ ]            | 0            | 0.0   |       |\n",
    "| Tech Sense     | [ ]            | 0            | 0.0   |       |\n",
    "| Tech Talk      | [ ]            | 0            | 0.0   |       |\n",
    "| Tech Growth    | [ ]            | 0            | 0.0   |       |\n",
    "| Advocacy       | [ ]            | 0            | 0.0   |       |\n",
    "| Comm & Collab  | [ ]            | 0            | 0.0   |       |\n",
    "| Integrity      | [ ]            | 0            | 0.0   |       |\n",
    "| Organized      | [ ]            | 0            | 0.0   |       |\n",
    "| **Total**      |                |              | 0.0   |       |\n",
    "| **Average**    |                |              | 0.0   |       |"
   ]
  }
 ],
 "metadata": {
  "kernelspec": {
   "display_name": "Python 3",
   "language": "python",
   "name": "python3"
  },
  "language_info": {
   "codemirror_mode": {
    "name": "ipython",
    "version": 3
   },
   "file_extension": ".py",
   "mimetype": "text/x-python",
   "name": "python",
   "nbconvert_exporter": "python",
   "pygments_lexer": "ipython3",
   "version": "3.11.9"
  },
  "orig_nbformat": 4
 },
 "nbformat": 4,
 "nbformat_minor": 2
}

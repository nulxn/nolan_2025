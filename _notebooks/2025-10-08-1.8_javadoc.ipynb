{
 "cells": [
  {
   "cell_type": "raw",
   "id": "8752c16c",
   "metadata": {
    "vscode": {
     "languageId": "raw"
    }
   },
   "source": [
    "---\n",
    "title: Documentation with Comments\n",
    "description: Student Teaching Lesson\n",
    "layout: post\n",
    "type: hacks\n",
    "comments: true\n",
    "courses: { compsci: {week: 8} }\n",
    "Author: Eshika Pallapotu, Nithika Vivek, Saanvi Dogra\n",
    "---"
   ]
  },
  {
   "cell_type": "markdown",
   "id": "341953d4",
   "metadata": {},
   "source": [
    "# Popcorn Hack 1"
   ]
  },
  {
   "cell_type": "code",
   "execution_count": null,
   "id": "1f996f47",
   "metadata": {
    "vscode": {
     "languageId": "java"
    }
   },
   "outputs": [],
   "source": [
    "/**\n",
    " * Calculates the sum of all positive, even integers in the given array.\n",
    " * @param nums an array of integers to process (must not be {@code null})\n",
    " * @return the sum of all positive even integers in {@code nums}; returns {@code 0} if none are found\n",
    " * @throws NullPointerException if {@code nums} is {@code null}\n",
    " */\n",
    "public int doSomething(int[] nums) {\n",
    "    // Ensure the input array is not null. Throwing a NullPointerException explicitly enforces this requirement.\n",
    "    if (nums == null) {\n",
    "        throw new NullPointerException(\"Input array 'nums' must not be null\");\n",
    "    }\n",
    "\n",
    "    // Initialize a variable to accumulate the sum of positive even numbers.\n",
    "    int result = 0;\n",
    "\n",
    "    // Iterate through each element in the array.\n",
    "    for (int i = 0; i < nums.length; i++) {\n",
    "        // Add the current number to the sum if it is both positive and even.\n",
    "        if (nums[i] > 0 && nums[i] % 2 == 0) {\n",
    "            result += nums[i];\n",
    "        }\n",
    "    }\n",
    "\n",
    "    // Return the total sum. If no positive even numbers were found, the result will be 0.\n",
    "    return result;\n",
    "}\n"
   ]
  },
  {
   "cell_type": "markdown",
   "id": "e3ccc847",
   "metadata": {},
   "source": [
    "# Popcorn Hack 2"
   ]
  },
  {
   "cell_type": "code",
   "execution_count": null,
   "id": "905a93e5",
   "metadata": {
    "vscode": {
     "languageId": "java"
    }
   },
   "outputs": [],
   "source": [
    "import java.util.HashMap;\n",
    "\n",
    "/**\n",
    " * GradeBook class for managing assignment scores, category weights, extra credit, \n",
    " * and calculating a final grade.\n",
    " * \n",
    " * <p>This class allows users to record assignments, assign weights to categories, \n",
    " * add extra credit, compute a weighted final grade, and generate a summary report.</p>\n",
    " *\n",
    " * <p><b>Key methods:</b> {@link #addAssignment}, {@link #setCategoryWeight}, \n",
    " * {@link #calculateFinalGrade}, {@link #generateReport}.</p>\n",
    " *\n",
    " * <p><b>Example usage:</b></p>\n",
    " * <pre>\n",
    " * GradeBook gb = new GradeBook();\n",
    " * gb.setCategoryWeight(\"Homework\", 0.3);\n",
    " * gb.addAssignment(\"Homework\", \"HW1\", 95.0);\n",
    " * double grade = gb.calculateFinalGrade();\n",
    " * </pre>\n",
    " *\n",
    " * @author Nolan Hightower\n",
    " * @version 1.0\n",
    " * @since 1.0\n",
    " */\n",
    "public class GradeBook {\n",
    "    private HashMap<String, Double> assignments; // Stores assignment scores by category:name\n",
    "    private HashMap<String, Double> categoryWeights; // Stores weights for each category\n",
    "    private double extraCredit; // Tracks additional points to be added to the final grade\n",
    "\n",
    "    /**\n",
    "     * Adds or updates an assignment score for a specific category.\n",
    "     * \n",
    "     * <p><b>Precondition:</b> {@code category} and {@code name} must not be null or empty.</p>\n",
    "     * <p><b>Postcondition:</b> The assignment identified by {@code category:name} is stored \n",
    "     * with the specified {@code score}.</p>\n",
    "     *\n",
    "     * @param category the category of the assignment (e.g., \"Exams\")\n",
    "     * @param name the name of the assignment (e.g., \"Midterm1\")\n",
    "     * @param score the score of the assignment (e.g., 0–100)\n",
    "     */\n",
    "    public void addAssignment(String category, String name, double score) { }\n",
    "\n",
    "    /**\n",
    "     * Sets or updates the weight for a specific category.\n",
    "     * \n",
    "     * <p><b>Precondition:</b> {@code category} must not be null or empty, and {@code weight} \n",
    "     * must be greater than or equal to 0.</p>\n",
    "     * <p><b>Postcondition:</b> The {@code categoryWeights} map is updated with the specified \n",
    "     * weight for the given category.</p>\n",
    "     *\n",
    "     * @param category the name of the category (e.g., \"Homework\")\n",
    "     * @param weight the weight of the category as a decimal (e.g., 0.25 for 25%)\n",
    "     */\n",
    "    public void setCategoryWeight(String category, double weight) { }\n",
    "\n",
    "    /**\n",
    "     * Calculates the final weighted grade based on category averages, weights, and extra credit.\n",
    "     * \n",
    "     * <p>If the total of all category weights does not equal 1.0, the weights are normalized \n",
    "     * proportionally. The final grade includes any extra credit added.</p>\n",
    "     *\n",
    "     * @return the final grade as a percentage (may exceed 100 if extra credit is applied)\n",
    "     */\n",
    "    public double calculateFinalGrade() { return 0.0; }\n",
    "\n",
    "    /**\n",
    "     * Generates a summary report of the GradeBook, including categories, assignments, weights, \n",
    "     * and the calculated final grade.\n",
    "     * \n",
    "     * @return a multi-line string containing the report\n",
    "     */\n",
    "    public String generateReport() { return \"\"; }\n",
    "}\n"
   ]
  },
  {
   "cell_type": "markdown",
   "id": "14117d10",
   "metadata": {},
   "source": [
    "---"
   ]
  },
  {
   "cell_type": "markdown",
   "id": "523dae9d",
   "metadata": {},
   "source": [
    "# Homework Hack"
   ]
  },
  {
   "cell_type": "markdown",
   "id": "bf714d6b",
   "metadata": {},
   "source": [
    "## Part 1"
   ]
  },
  {
   "cell_type": "code",
   "execution_count": 2,
   "id": "e0544385",
   "metadata": {
    "vscode": {
     "languageId": "java"
    }
   },
   "outputs": [],
   "source": [
    "/**\n",
    " * A simple demonstration class that adds two integers and prints the result.\n",
    " * \n",
    " * <p>This class contains a main method to demonstrate the functionality of the\n",
    " * {@code add} method, which performs the addition of two integers.</p>\n",
    " * \n",
    " * <p><b>Example usage:</b></p>\n",
    " * <pre>\n",
    " * int result = AddDemo.add(5, 10);\n",
    " * System.out.println(\"Result: \" + result);\n",
    " * </pre>\n",
    " * \n",
    " * @author Nolan Hightower (nulxn)\n",
    " * @version 1.0\n",
    " * @since 1.0\n",
    " */\n",
    "public class AddDemo {\n",
    "\n",
    "    /**\n",
    "     * The main method serves as the entry point for the program.\n",
    "     * \n",
    "     * <p>It initializes two integers, adds them using the {@code add} method,\n",
    "     * and prints the result to the console.</p>\n",
    "     * \n",
    "     * @param args command-line arguments (not used in this program)\n",
    "     */\n",
    "    public static void main(String[] args) {\n",
    "        int x = 5;\n",
    "        int y = 10;\n",
    "        int z = add(x, y);\n",
    "        System.out.println(\"The result is: \" + z);\n",
    "    }\n",
    "\n",
    "    /**\n",
    "     * Adds two integers and returns the result.\n",
    "     * \n",
    "     * <p><b>Precondition:</b> Both {@code a} and {@code b} are valid integers.</p>\n",
    "     * <p><b>Postcondition:</b> The sum of {@code a} and {@code b} is returned.</p>\n",
    "     * \n",
    "     * @param a the first integer to add\n",
    "     * @param b the second integer to add\n",
    "     * @return the sum of {@code a} and {@code b}\n",
    "     */\n",
    "    public static int add(int a, int b) {\n",
    "        return a + b;\n",
    "    }\n",
    "}"
   ]
  },
  {
   "cell_type": "markdown",
   "id": "b99cf453",
   "metadata": {},
   "source": [
    "### Changes\n",
    "\n",
    "class name: renamed stuff to calculator for clarity and relevance.\n",
    "formatting: proper indentation and spacing for readability.\n",
    "javadoc comments: added detailed comments for the class, methods, and parameters to explain their purpose and usage.\n",
    "output message: changed \"ans is \" to \"the result is: \" for better readability and professionalism."
   ]
  },
  {
   "cell_type": "markdown",
   "id": "0c84489f",
   "metadata": {},
   "source": [
    "## Part 2"
   ]
  },
  {
   "cell_type": "code",
   "execution_count": null,
   "id": "6858da0d",
   "metadata": {
    "vscode": {
     "languageId": "java"
    }
   },
   "outputs": [],
   "source": [
    "/**\n",
    " * Attempts to enroll a student in a specified course for a given semester.\n",
    " * <p>\n",
    " * This method performs multiple validation checks before enrolling:\n",
    " * <ul>\n",
    " *   <li>Verifies that the student and course exist.</li>\n",
    " *   <li>Ensures the course is not already full.</li>\n",
    " *   <li>Checks that the student has no schedule conflicts.</li>\n",
    " *   <li>Verifies the student meets all course prerequisites.</li>\n",
    " *   <li>Ensures the total enrolled credit hours do not exceed 18.</li>\n",
    " * </ul>\n",
    " * <p>\n",
    " * If all checks pass, the student is added to the course roster,\n",
    " * and the enrollment transaction is recorded.\n",
    " *\n",
    " * @param studentId the unique identifier of the student attempting to enroll\n",
    " * @param courseCode the code of the course to enroll in\n",
    " * @param semester the semester number or code for the enrollment (e.g., 1 for Spring, 2 for Fall)\n",
    " * @return {@code true} if the enrollment was successful; {@code false} if any validation check fails\n",
    " *\n",
    " * @throws IllegalArgumentException if any of the provided arguments are {@code null} or invalid\n",
    " */\n",
    "public boolean enrollStudent(String studentId, String courseCode, int semester) {\n",
    "    Student student = findStudentById(studentId);\n",
    "    if (student == null) return false;\n",
    "\n",
    "    Course course = findCourseByCode(courseCode);\n",
    "    if (course == null) return false;\n",
    "\n",
    "    if (course.isFull()) return false;\n",
    "    if (student.hasScheduleConflict(course)) return false;\n",
    "    if (!student.hasPrerequisites(course)) return false;\n",
    "    if (student.getCreditHours() + course.getCreditHours() > 18) return false;\n",
    "\n",
    "    student.addCourse(course);\n",
    "    course.addStudent(student);\n",
    "    recordEnrollmentTransaction(studentId, courseCode, semester);\n",
    "    return true;\n",
    "}\n"
   ]
  },
  {
   "cell_type": "markdown",
   "id": "f4e583df",
   "metadata": {},
   "source": [
    "### Changes\n",
    "\n",
    "added a clear summary at the top explaining what the method does (enrolls a student in a course).\n",
    "listed step-by-step checks (student exists, course full, prerequisites, etc.) using a `<ul>` list for readability.\n",
    "added @param, @return, and @throws tags to describe inputs, output, and possible errors.\n",
    "improved formatting with <p> tags and {@code} for inline code clarity."
   ]
  },
  {
   "cell_type": "markdown",
   "id": "c871a7d7",
   "metadata": {},
   "source": [
    "## Part 3"
   ]
  },
  {
   "cell_type": "markdown",
   "id": "20042feb",
   "metadata": {},
   "source": [
    "### Importance of Documentation in Team Environments\n",
    "Documentation acts as a shared understanding and historical record. In a team setting, it ensures that intentions, assumptions, and side effects are clearly communicated, enabling teammates to use, review, and maintain the code without needing to consult the original author. While solo projects may rely on personal memory or context, in collaborative environments, documentation accelerates onboarding, minimizes miscommunication, and helps prevent subtle bugs caused by incorrect assumptions."
   ]
  },
  {
   "cell_type": "markdown",
   "id": "2088c065",
   "metadata": {},
   "source": [
    "### When to Document vs. When Not To\n",
    "\n",
    "Document public or complex methods that involve validations, side effects, updates to multiple objects, interactions with external systems, or rely on intricate business rules. Include details such as preconditions, postconditions, and potential failure scenarios.\n",
    "\n",
    "Do not document simple, self-explanatory private helpers or trivial getters/setters where the code is straightforward, and comments would merely restate the implementation."
   ]
  }
 ],
 "metadata": {
  "kernelspec": {
   "display_name": "Java",
   "language": "java",
   "name": "java"
  },
  "language_info": {
   "codemirror_mode": "java",
   "file_extension": ".jshell",
   "mimetype": "text/x-java-source",
   "name": "Java",
   "pygments_lexer": "java",
   "version": "17.0.15+6-Debian-1deb12u1"
  }
 },
 "nbformat": 4,
 "nbformat_minor": 5
}

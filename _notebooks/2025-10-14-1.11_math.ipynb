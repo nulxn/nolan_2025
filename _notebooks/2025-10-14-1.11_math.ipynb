{
 "cells": [
  {
   "cell_type": "raw",
   "metadata": {
    "vscode": {
     "languageId": "raw"
    }
   },
   "source": [
    "---\n",
    "---"
   ]
  },
  {
   "cell_type": "markdown",
   "metadata": {},
   "source": [
    "# Popcorn Hack #1"
   ]
  },
  {
   "cell_type": "code",
   "execution_count": 2,
   "metadata": {
    "vscode": {
     "languageId": "java"
    }
   },
   "outputs": [
    {
     "name": "stdout",
     "output_type": "stream",
     "text": [
      "Level: 10\n",
      "Base Power: 100\n",
      "Final Power: 619.1736422399997\n"
     ]
    }
   ],
   "source": [
    "int basePower = 100;\n",
    "int level = 10;\n",
    "double finalPower = basePower * Math.pow(1.2, level);\n",
    "\n",
    "System.out.println(\"Level: \" + level);\n",
    "System.out.println(\"Base Power: \" + basePower);\n",
    "System.out.println(\"Final Power: \" + finalPower);"
   ]
  },
  {
   "cell_type": "markdown",
   "metadata": {},
   "source": [
    "# Popcorn Hack #2"
   ]
  },
  {
   "cell_type": "code",
   "execution_count": null,
   "metadata": {
    "vscode": {
     "languageId": "java"
    }
   },
   "outputs": [],
   "source": [
    "System.out.println(\"Loot Drop!\");\n",
    "\n",
    "int rarityRoll = (int)(Math.random() * 100) + 1;\n",
    "System.out.println(\"Rarity Roll: \" + rarityRoll);\n",
    "\n",
    "String rarity;\n",
    "int goldValue;\n",
    "\n",
    "if (rarityRoll <= 60) {\n",
    "    rarity = \"COMMON\";\n",
    "    goldValue = (int)(Math.random() * 21) + 10; \n",
    "} else if (rarityRoll <= 85) {\n",
    "    rarity = \"RARE\";\n",
    "    goldValue = (int)(Math.random() * 40) + 31; \n",
    "} else {\n",
    "    rarity = \"LEGENDARY\";\n",
    "    goldValue = (int)(Math.random() * 30) + 71;\n",
    "}\n",
    "\n",
    "System.out.println(\"You obtained: \" + rarity + \" item\");\n",
    "System.out.println(\"Gold Value: \" + goldValue);\n"
   ]
  },
  {
   "cell_type": "markdown",
   "metadata": {},
   "source": [
    "# Homework Hacks"
   ]
  },
  {
   "cell_type": "code",
   "execution_count": 1,
   "metadata": {
    "vscode": {
     "languageId": "java"
    }
   },
   "outputs": [
    {
     "name": "stdout",
     "output_type": "stream",
     "text": [
      "Player 1 Health: 85\n",
      "Player 2 Health: 60\n",
      "Absolute Health Difference: 25\n"
     ]
    }
   ],
   "source": [
    "int player1Health = 85;\n",
    "int player2Health = 60;\n",
    "\n",
    "int healthDifference = Math.abs(player1Health - player2Health);\n",
    "\n",
    "System.out.println(\"Player 1 Health: \" + player1Health);\n",
    "System.out.println(\"Player 2 Health: \" + player2Health);\n",
    "System.out.println(\"Absolute Health Difference: \" + healthDifference);"
   ]
  },
  {
   "cell_type": "code",
   "execution_count": 2,
   "metadata": {
    "vscode": {
     "languageId": "java"
    }
   },
   "outputs": [
    {
     "name": "stdout",
     "output_type": "stream",
     "text": [
      "Base Damage: 50\n",
      "Power Level: 5\n",
      "Attack Damage: 379.6875\n"
     ]
    }
   ],
   "source": [
    "int baseDamage = 50;\n",
    "int powerLevel = 5;\n",
    "\n",
    "double attackDamage = baseDamage * Math.pow(1.5, powerLevel);\n",
    "\n",
    "System.out.println(\"Base Damage: \" + baseDamage);\n",
    "System.out.println(\"Power Level: \" + powerLevel);\n",
    "System.out.println(\"Attack Damage: \" + attackDamage);"
   ]
  },
  {
   "cell_type": "code",
   "execution_count": null,
   "metadata": {
    "vscode": {
     "languageId": "java"
    }
   },
   "outputs": [
    {
     "name": "stdout",
     "output_type": "stream",
     "text": [
      "Generating Random Loot...\n",
      "Random Integer between 10 and 50: 47\n"
     ]
    }
   ],
   "source": [
    "int minValue = 10;\n",
    "int maxValue = 50;\n",
    "\n",
    "System.out.println(\"Generating Random Loot...\");\n",
    "int randomInt = (int)(Math.random() * (maxValue - minValue + 1)) + minValue;\n",
    "\n",
    "System.out.println(\"Random Integer between \" + minValue + \" and \" + maxValue + \": \" + randomInt);"
   ]
  }
 ],
 "metadata": {
  "kernelspec": {
   "display_name": "Java",
   "language": "java",
   "name": "java"
  },
  "language_info": {
   "codemirror_mode": "java",
   "file_extension": ".jshell",
   "mimetype": "text/x-java-source",
   "name": "Java",
   "pygments_lexer": "java",
   "version": "17.0.15+6-Debian-1deb12u1"
  }
 },
 "nbformat": 4,
 "nbformat_minor": 2
}

{
 "cells": [
  {
   "cell_type": "raw",
   "metadata": {
    "vscode": {
     "languageId": "raw"
    }
   },
   "source": [
    "---\n",
    "layout: post\n",
    "title: Javascript Cell\n",
    "description:  This is for the assignment\n",
    "permalink: /posts/js\n",
    "comments: true\n",
    "---"
   ]
  },
  {
   "cell_type": "markdown",
   "metadata": {},
   "source": [
    "### Person Object\n",
    "It has all the stuff"
   ]
  },
  {
   "cell_type": "code",
   "execution_count": 2,
   "metadata": {},
   "outputs": [
    {
     "name": "stdout",
     "output_type": "stream",
     "text": [
      "{\n",
      "  name: 'Nolan Hightower',\n",
      "  age: 15,\n",
      "  classes: [\n",
      "    'Integrated Math 3a',\n",
      "    'Spanish 4',\n",
      "    'Digital Photography 2',\n",
      "    'AP World',\n",
      "    'AP CSP'\n",
      "  ],\n",
      "  interests: [ 'Coding', 'Running' ],\n",
      "  pets: { type: 'dog', name: 'Stanley', years: '0.44' }\n",
      "}\n",
      "Changed object: [\"Coding\",\"Running\",\"Sleepings\"]\n",
      "Changed key: [\"Coding\",\"Running\",\"NOT SLEEPING >:)\"]\n",
      "2.142857142857143\n",
      "string\n",
      "number\n",
      "object\n"
     ]
    }
   ],
   "source": [
    "var person = {\n",
    "  name: \"Nolan Hightower\",\n",
    "  age: 15,\n",
    "  classes: [\n",
    "    \"Integrated Math 3a\",\n",
    "    \"Spanish 4\",\n",
    "    \"Digital Photography 2\",\n",
    "    \"AP World\",\n",
    "    \"AP CSP\",\n",
    "  ],\n",
    "  interests: [\"Coding\", \"Running\"],\n",
    "  pets: {\n",
    "    type: \"dog\",\n",
    "    name: \"Stanley\",\n",
    "    years: \"0.44\",\n",
    "  },\n",
    "};\n",
    "\n",
    "console.log(person);\n",
    "\n",
    "person.interests.push(\"Sleepings\");\n",
    "console.log(\"Changed object: \" + JSON.stringify(person.interests));\n",
    "\n",
    "person.interests[2] = \"NOT SLEEPING >:)\";\n",
    "console.log(\"Changed key: \" + JSON.stringify(person.interests));\n",
    "\n",
    "console.log(person.age / 7);\n",
    "console.log(typeof person.name);\n",
    "console.log(typeof person.age);\n",
    "console.log(typeof person.pets);\n"
   ]
  }
 ],
 "metadata": {
  "kernelspec": {
   "display_name": "JavaScript",
   "language": "javascript",
   "name": "jslab"
  },
  "language_info": {
   "file_extension": ".js",
   "mimetype": "text/javascript",
   "name": "javascript",
   "version": ""
  }
 },
 "nbformat": 4,
 "nbformat_minor": 2
}

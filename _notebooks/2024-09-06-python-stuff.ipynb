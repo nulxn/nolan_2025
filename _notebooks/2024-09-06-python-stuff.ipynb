{
 "cells": [
  {
   "cell_type": "raw",
   "metadata": {
    "vscode": {
     "languageId": "raw"
    }
   },
   "source": [
    "---\n",
    "layout: post\n",
    "title: Python Hacks\n",
    "description:  This is for the assignment\n",
    "permalink: /posts/py-hacks\n",
    "comments: true\n",
    "---"
   ]
  },
  {
   "cell_type": "markdown",
   "metadata": {},
   "source": [
    "### There be python code here 🏴‍☠️"
   ]
  },
  {
   "cell_type": "code",
   "execution_count": 22,
   "metadata": {},
   "outputs": [
    {
     "name": "stdout",
     "output_type": "stream",
     "text": [
      "🪙 gold be at the x on the map! 🗺️\n"
     ]
    }
   ],
   "source": [
    "from emoji import emojize\n",
    "\n",
    "print(emojize(\":coin: gold be at the x on the map! :world_map:\"))"
   ]
  },
  {
   "cell_type": "code",
   "execution_count": 23,
   "metadata": {},
   "outputs": [
    {
     "name": "stdout",
     "output_type": "stream",
     "text": [
      "Rickrolling\n"
     ]
    },
    {
     "data": {
      "text/markdown": [
       "Rickrolling or a Rickroll is an Internet meme involving the unexpected appearance of the music video to the 1987 hit song \"Never Gonna Give You Up\", performed by English singer Rick Astley. The aforementioned video has over 1.5 billion views on YouTube. The meme is a type of bait and switch, usually using a disguised hyperlink that leads to the music video. When one clicks on a seemingly unrelated link, the site with the music video loads instead of what was expected, and they have been \"Rickrolled\". The meme has also extended to using the song's lyrics, or singing it, in unexpected contexts. Astley himself has also been Rickrolled on several occasions.\n",
       "The meme grew out of a similar bait-and-switch trick called \"duck rolling\" that was popular on the 4chan website in 2006. The video bait-and-switch trick grew popular on 4chan by 2007 during April Fools' Day and spread to other Internet sites later that year. The meme gained mainstream attention in 2008 through several publicised events, particularly when YouTube used it on its 2008 April Fools' Day event.\n",
       "Astley, who had only returned to performing after a 10-year hiatus, was initially hesitant about using his newfound popularity from the meme to further his career but accepted the fame by Rickrolling the 2008 Macy's Thanksgiving Day Parade with a surprise performance of the song. Since then, Astley has seen his performance career revitalized by the meme's popularity, and Rickrolling saw a massive resurgence online in the early 2020s."
      ],
      "text/plain": [
       "<IPython.core.display.Markdown object>"
      ]
     },
     "metadata": {},
     "output_type": "display_data"
    },
    {
     "name": "stdout",
     "output_type": "stream",
     "text": [
      "JavaScript\n"
     ]
    },
    {
     "data": {
      "text/markdown": [
       "JavaScript (), often abbreviated as JS, is a programming language and core technology of the Web, alongside HTML and CSS. 99% of websites use JavaScript on the client side for webpage behavior.\n",
       "Web browsers have a dedicated JavaScript engine that executes the client code. These engines are also utilized in some servers and a variety of apps. The most popular runtime system for non-browser usage is Node.js.\n",
       "JavaScript is a high-level, often just-in-time compiled language that conforms to the ECMAScript standard. It has dynamic typing, prototype-based object-orientation, and first-class functions. It is multi-paradigm, supporting event-driven, functional, and imperative programming styles. It has application programming interfaces (APIs) for working with text, dates, regular expressions, standard data structures, and the Document Object Model (DOM).\n",
       "The ECMAScript standard does not include any input/output (I/O), such as networking, storage, or graphics facilities. In practice, the web browser or other runtime system provides JavaScript APIs for I/O.\n",
       "Although Java and JavaScript are similar in name, syntax, and respective standard libraries, the two languages are distinct and differ greatly in design."
      ],
      "text/plain": [
       "<IPython.core.display.Markdown object>"
      ]
     },
     "metadata": {},
     "output_type": "display_data"
    }
   ],
   "source": [
    "\n",
    "import wikipedia \n",
    "from IPython.display import display, Markdown \n",
    "\n",
    "terms = [\"Rickrolling\", \"JavaScript\"]\n",
    "for term in terms:\n",
    "    result = wikipedia.search(term)\n",
    "    summary = wikipedia.summary(result[0])\n",
    "    print(term) \n",
    "    \n",
    "    display(Markdown(summary)) "
   ]
  }
 ],
 "metadata": {
  "kernelspec": {
   "display_name": "venv",
   "language": "python",
   "name": "python3"
  },
  "language_info": {
   "codemirror_mode": {
    "name": "ipython",
    "version": 3
   },
   "file_extension": ".py",
   "mimetype": "text/x-python",
   "name": "python",
   "nbconvert_exporter": "python",
   "pygments_lexer": "ipython3",
   "version": "3.12.3"
  }
 },
 "nbformat": 4,
 "nbformat_minor": 2
}

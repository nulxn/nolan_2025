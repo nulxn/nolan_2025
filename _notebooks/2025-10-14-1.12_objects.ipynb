{
 "cells": [
  {
   "cell_type": "markdown",
   "metadata": {},
   "source": [
    "# Popcorn Hack"
   ]
  },
  {
   "cell_type": "code",
   "execution_count": 1,
   "metadata": {
    "vscode": {
     "languageId": "java"
    }
   },
   "outputs": [
    {
     "name": "stdout",
     "output_type": "stream",
     "text": [
      "Title: The Great Gatsby, Pages: 180\n"
     ]
    }
   ],
   "source": [
    "// Popcorn Hack: Complete the Book class\n",
    "class Book {\n",
    "    String title;\n",
    "    int pages;\n",
    "    \n",
    "    // Method to print book information\n",
    "    public void printInfo() {\n",
    "        System.out.println(\"Title: \" + title + \", Pages: \" + pages);\n",
    "    }\n",
    "}\n",
    "\n",
    "class MainPopcorn {\n",
    "    public static void main(String[] args) {\n",
    "        // Create a Book object\n",
    "        Book myBook = new Book();\n",
    "        \n",
    "        // Set the fields\n",
    "        myBook.title = \"The Great Gatsby\";\n",
    "        myBook.pages = 180;\n",
    "        \n",
    "        // Call printInfo()\n",
    "        myBook.printInfo();\n",
    "    }\n",
    "}\n",
    "\n",
    "// Run the program\n",
    "MainPopcorn.main(null);"
   ]
  },
  {
   "cell_type": "markdown",
   "metadata": {},
   "source": [
    "# Homework Part 1"
   ]
  },
  {
   "cell_type": "code",
   "execution_count": 2,
   "metadata": {
    "vscode": {
     "languageId": "java"
    }
   },
   "outputs": [
    {
     "name": "stdout",
     "output_type": "stream",
     "text": [
      "=== Student Roster ===\n",
      "Name: Alex Johnson\n",
      "Grade: 10\n",
      "Pets: 2\n",
      "Siblings: 1\n",
      "Favorite Subject: Computer Science\n",
      "-------------------\n",
      "Name: Sarah Martinez\n",
      "Grade: 11\n",
      "Pets: 1\n",
      "Siblings: 3\n",
      "Favorite Subject: Mathematics\n",
      "-------------------\n",
      "Name: Michael Chen\n",
      "Grade: 10\n",
      "Pets: 0\n",
      "Siblings: 2\n",
      "Favorite Subject: Physics\n",
      "-------------------\n"
     ]
    }
   ],
   "source": [
    "class Student {\n",
    "    String name;\n",
    "    int grade;\n",
    "    int pets;\n",
    "    int siblings;\n",
    "    String favoriteSubject;\n",
    "    \n",
    "    public void displayInfo() {\n",
    "        System.out.println(\"Name: \" + name);\n",
    "        System.out.println(\"Grade: \" + grade);\n",
    "        System.out.println(\"Pets: \" + pets);\n",
    "        System.out.println(\"Siblings: \" + siblings);\n",
    "        System.out.println(\"Favorite Subject: \" + favoriteSubject);\n",
    "        System.out.println(\"-------------------\");\n",
    "    }\n",
    "}\n",
    "\n",
    "class Main {\n",
    "    public static void main(String[] args) {\n",
    "        Student student1 = new Student();\n",
    "        student1.name = \"Alex Johnson\";\n",
    "        student1.grade = 10;\n",
    "        student1.pets = 2;\n",
    "        student1.siblings = 1;\n",
    "        student1.favoriteSubject = \"Computer Science\";\n",
    "        \n",
    "        Student student2 = new Student();\n",
    "        student2.name = \"Sarah Martinez\";\n",
    "        student2.grade = 11;\n",
    "        student2.pets = 1;\n",
    "        student2.siblings = 3;\n",
    "        student2.favoriteSubject = \"Mathematics\";\n",
    "        \n",
    "        Student student3 = new Student();\n",
    "        student3.name = \"Michael Chen\";\n",
    "        student3.grade = 10;\n",
    "        student3.pets = 0;\n",
    "        student3.siblings = 2;\n",
    "        student3.favoriteSubject = \"Physics\";\n",
    "        \n",
    "        System.out.println(\"=== Student Roster ===\");\n",
    "        student1.displayInfo();\n",
    "        student2.displayInfo();\n",
    "        student3.displayInfo();\n",
    "    }\n",
    "}\n",
    "\n",
    "Main.main(null);\n"
   ]
  },
  {
   "cell_type": "markdown",
   "metadata": {},
   "source": [
    "# Homework Part 2"
   ]
  },
  {
   "cell_type": "code",
   "execution_count": 3,
   "metadata": {
    "vscode": {
     "languageId": "java"
    }
   },
   "outputs": [
    {
     "name": "stdout",
     "output_type": "stream",
     "text": [
      "=== Demonstrating Reference Variables ===\n",
      "\n",
      "Original student1 info:\n",
      "Name: Alex Johnson\n",
      "Grade: 10\n",
      "Pets: 2\n",
      "Siblings: 1\n",
      "Favorite Subject: Computer Science\n",
      "-------------------\n",
      "Reference variable 'Alex' points to the same student:\n",
      "Name: Alex Johnson\n",
      "Grade: 10\n",
      "Pets: 2\n",
      "Siblings: 1\n",
      "Favorite Subject: Computer Science\n",
      "-------------------\n",
      "Proof they reference the same object:\n",
      "student1 == Alex: true\n",
      "\n",
      "Changing grade through 'Alex' reference...\n",
      "student1's grade is now: 11\n",
      "Alex's grade is now: 11\n"
     ]
    }
   ],
   "source": [
    "class Student {\n",
    "    String name;\n",
    "    int grade;\n",
    "    int pets;\n",
    "    int siblings;\n",
    "    String favoriteSubject;\n",
    "\n",
    "    public void displayInfo() {\n",
    "        System.out.println(\"Name: \" + name);\n",
    "        System.out.println(\"Grade: \" + grade);\n",
    "        System.out.println(\"Pets: \" + pets);\n",
    "        System.out.println(\"Siblings: \" + siblings);\n",
    "        System.out.println(\"Favorite Subject: \" + favoriteSubject);\n",
    "        System.out.println(\"-------------------\");\n",
    "    }\n",
    "}\n",
    "\n",
    "class Main {\n",
    "    public static void main(String[] args) {\n",
    "        Student student1 = new Student();\n",
    "        student1.name = \"Alex Johnson\";\n",
    "        student1.grade = 10;\n",
    "        student1.pets = 2;\n",
    "        student1.siblings = 1;\n",
    "        student1.favoriteSubject = \"Computer Science\";\n",
    "\n",
    "        Student student2 = new Student();\n",
    "        student2.name = \"Sarah Martinez\";\n",
    "        student2.grade = 11;\n",
    "        student2.pets = 1;\n",
    "        student2.siblings = 3;\n",
    "        student2.favoriteSubject = \"Mathematics\";\n",
    "\n",
    "        Student student3 = new Student();\n",
    "        student3.name = \"Michael Chen\";\n",
    "        student3.grade = 10;\n",
    "        student3.pets = 0;\n",
    "        student3.siblings = 2;\n",
    "        student3.favoriteSubject = \"Physics\";\n",
    "\n",
    "        Student Alex = student1;\n",
    "\n",
    "        System.out.println(\"=== Demonstrating Reference Variables ===\");\n",
    "        System.out.println(\"\\nOriginal student1 info:\");\n",
    "        student1.displayInfo();\n",
    "\n",
    "        System.out.println(\"Reference variable 'Alex' points to the same student:\");\n",
    "        Alex.displayInfo();\n",
    "\n",
    "        System.out.println(\"Proof they reference the same object:\");\n",
    "        System.out.println(\"student1 == Alex: \" + (student1 == Alex));\n",
    "\n",
    "        System.out.println(\"\\nChanging grade through 'Alex' reference...\");\n",
    "        Alex.grade = 11;\n",
    "\n",
    "        System.out.println(\"student1's grade is now: \" + student1.grade);\n",
    "        System.out.println(\"Alex's grade is now: \" + Alex.grade);\n",
    "    }\n",
    "}\n",
    "\n",
    "Main.main(null);\n"
   ]
  }
 ],
 "metadata": {
  "kernelspec": {
   "display_name": "Java",
   "language": "java",
   "name": "java"
  },
  "language_info": {
   "codemirror_mode": "java",
   "file_extension": ".jshell",
   "mimetype": "text/x-java-source",
   "name": "Java",
   "pygments_lexer": "java",
   "version": "17.0.15+6-Debian-1deb12u1"
  }
 },
 "nbformat": 4,
 "nbformat_minor": 2
}
